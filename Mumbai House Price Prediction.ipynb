{
 "cells": [
  {
   "cell_type": "markdown",
   "id": "de8316d0",
   "metadata": {},
   "source": [
    "# 1) Import Libraries"
   ]
  },
  {
   "cell_type": "code",
   "execution_count": 707,
   "id": "7033c787",
   "metadata": {},
   "outputs": [],
   "source": [
    "import pandas as pd\n",
    "import numpy as np\n",
    "import seaborn as sns\n",
    "import matplotlib.pyplot as plt"
   ]
  },
  {
   "cell_type": "code",
   "execution_count": 708,
   "id": "4e770264",
   "metadata": {},
   "outputs": [],
   "source": [
    "df = pd.read_csv(\"mumbai.csv\")"
   ]
  },
  {
   "cell_type": "code",
   "execution_count": 709,
   "id": "45b75f3e",
   "metadata": {},
   "outputs": [
    {
     "data": {
      "text/html": [
       "<div>\n",
       "<style scoped>\n",
       "    .dataframe tbody tr th:only-of-type {\n",
       "        vertical-align: middle;\n",
       "    }\n",
       "\n",
       "    .dataframe tbody tr th {\n",
       "        vertical-align: top;\n",
       "    }\n",
       "\n",
       "    .dataframe thead th {\n",
       "        text-align: right;\n",
       "    }\n",
       "</style>\n",
       "<table border=\"1\" class=\"dataframe\">\n",
       "  <thead>\n",
       "    <tr style=\"text-align: right;\">\n",
       "      <th></th>\n",
       "      <th>price</th>\n",
       "      <th>Address</th>\n",
       "      <th>area</th>\n",
       "      <th>latitude</th>\n",
       "      <th>longitude</th>\n",
       "      <th>Bedrooms</th>\n",
       "      <th>Bathrooms</th>\n",
       "      <th>Balcony</th>\n",
       "      <th>Status</th>\n",
       "      <th>neworold</th>\n",
       "      <th>parking</th>\n",
       "      <th>Furnished_status</th>\n",
       "      <th>Lift</th>\n",
       "      <th>Landmarks</th>\n",
       "      <th>type_of_building</th>\n",
       "      <th>desc</th>\n",
       "      <th>Price_sqft</th>\n",
       "    </tr>\n",
       "  </thead>\n",
       "  <tbody>\n",
       "    <tr>\n",
       "      <th>0</th>\n",
       "      <td>22400000.0</td>\n",
       "      <td>Chembur, Mumbai - Harbour Line, Maharashtra</td>\n",
       "      <td>629.0</td>\n",
       "      <td>19.0328</td>\n",
       "      <td>72.896357</td>\n",
       "      <td>2.0</td>\n",
       "      <td>2.0</td>\n",
       "      <td>NaN</td>\n",
       "      <td>Under Construction</td>\n",
       "      <td>New Property</td>\n",
       "      <td>NaN</td>\n",
       "      <td>NaN</td>\n",
       "      <td>2.0</td>\n",
       "      <td>NaN</td>\n",
       "      <td>Flat</td>\n",
       "      <td>\\n\\n\\n                                Right fr...</td>\n",
       "      <td>35612.082671</td>\n",
       "    </tr>\n",
       "  </tbody>\n",
       "</table>\n",
       "</div>"
      ],
      "text/plain": [
       "        price                                      Address   area  latitude  \\\n",
       "0  22400000.0  Chembur, Mumbai - Harbour Line, Maharashtra  629.0   19.0328   \n",
       "\n",
       "   longitude  Bedrooms  Bathrooms  Balcony              Status      neworold  \\\n",
       "0  72.896357       2.0        2.0      NaN  Under Construction  New Property   \n",
       "\n",
       "   parking Furnished_status  Lift Landmarks type_of_building  \\\n",
       "0      NaN              NaN   2.0       NaN             Flat   \n",
       "\n",
       "                                                desc    Price_sqft  \n",
       "0  \\n\\n\\n                                Right fr...  35612.082671  "
      ]
     },
     "execution_count": 709,
     "metadata": {},
     "output_type": "execute_result"
    }
   ],
   "source": [
    "df.head(1)"
   ]
  },
  {
   "cell_type": "markdown",
   "id": "21460533",
   "metadata": {},
   "source": [
    "# 2) Data Cleaning"
   ]
  },
  {
   "cell_type": "code",
   "execution_count": 710,
   "id": "e217181b",
   "metadata": {},
   "outputs": [
    {
     "data": {
      "text/plain": [
       "Index(['price', 'Address', 'area', 'latitude', 'longitude', 'Bedrooms',\n",
       "       'Bathrooms', 'Balcony', 'Status', 'neworold', 'parking',\n",
       "       'Furnished_status', 'Lift', 'Landmarks', 'type_of_building', 'desc',\n",
       "       'Price_sqft'],\n",
       "      dtype='object')"
      ]
     },
     "execution_count": 710,
     "metadata": {},
     "output_type": "execute_result"
    }
   ],
   "source": [
    "df.columns"
   ]
  },
  {
   "cell_type": "code",
   "execution_count": 711,
   "id": "ae42e371",
   "metadata": {},
   "outputs": [
    {
     "data": {
      "text/plain": [
       "(6255, 17)"
      ]
     },
     "execution_count": 711,
     "metadata": {},
     "output_type": "execute_result"
    }
   ],
   "source": [
    "df.shape"
   ]
  },
  {
   "cell_type": "code",
   "execution_count": 712,
   "id": "4816a32b",
   "metadata": {},
   "outputs": [
    {
     "data": {
      "text/plain": [
       "0"
      ]
     },
     "execution_count": 712,
     "metadata": {},
     "output_type": "execute_result"
    }
   ],
   "source": [
    "df.duplicated().sum()"
   ]
  },
  {
   "cell_type": "code",
   "execution_count": 713,
   "id": "e1119366",
   "metadata": {},
   "outputs": [
    {
     "data": {
      "text/plain": [
       "price                  0\n",
       "Address                0\n",
       "area                   0\n",
       "latitude               0\n",
       "longitude              0\n",
       "Bedrooms               0\n",
       "Bathrooms              0\n",
       "Balcony             3879\n",
       "Status               481\n",
       "neworold               0\n",
       "parking             4126\n",
       "Furnished_status    2655\n",
       "Lift                4577\n",
       "Landmarks           3638\n",
       "type_of_building       0\n",
       "desc                   0\n",
       "Price_sqft             0\n",
       "dtype: int64"
      ]
     },
     "execution_count": 713,
     "metadata": {},
     "output_type": "execute_result"
    }
   ],
   "source": [
    "df.isnull().sum()"
   ]
  },
  {
   "cell_type": "code",
   "execution_count": 714,
   "id": "8223578d",
   "metadata": {},
   "outputs": [
    {
     "data": {
      "text/html": [
       "<div>\n",
       "<style scoped>\n",
       "    .dataframe tbody tr th:only-of-type {\n",
       "        vertical-align: middle;\n",
       "    }\n",
       "\n",
       "    .dataframe tbody tr th {\n",
       "        vertical-align: top;\n",
       "    }\n",
       "\n",
       "    .dataframe thead th {\n",
       "        text-align: right;\n",
       "    }\n",
       "</style>\n",
       "<table border=\"1\" class=\"dataframe\">\n",
       "  <thead>\n",
       "    <tr style=\"text-align: right;\">\n",
       "      <th></th>\n",
       "      <th>price</th>\n",
       "      <th>area</th>\n",
       "      <th>latitude</th>\n",
       "      <th>longitude</th>\n",
       "      <th>Bedrooms</th>\n",
       "      <th>Bathrooms</th>\n",
       "      <th>Balcony</th>\n",
       "      <th>parking</th>\n",
       "      <th>Lift</th>\n",
       "      <th>Price_sqft</th>\n",
       "    </tr>\n",
       "  </thead>\n",
       "  <tbody>\n",
       "    <tr>\n",
       "      <th>count</th>\n",
       "      <td>6.255000e+03</td>\n",
       "      <td>6255.000000</td>\n",
       "      <td>6255.000000</td>\n",
       "      <td>6255.000000</td>\n",
       "      <td>6255.000000</td>\n",
       "      <td>6255.000000</td>\n",
       "      <td>2376.000000</td>\n",
       "      <td>2129.000000</td>\n",
       "      <td>1678.000000</td>\n",
       "      <td>6255.000000</td>\n",
       "    </tr>\n",
       "    <tr>\n",
       "      <th>mean</th>\n",
       "      <td>2.684187e+07</td>\n",
       "      <td>1185.625260</td>\n",
       "      <td>19.156772</td>\n",
       "      <td>72.868642</td>\n",
       "      <td>2.452278</td>\n",
       "      <td>2.425580</td>\n",
       "      <td>2.162879</td>\n",
       "      <td>4.662283</td>\n",
       "      <td>2.448153</td>\n",
       "      <td>21422.923601</td>\n",
       "    </tr>\n",
       "    <tr>\n",
       "      <th>std</th>\n",
       "      <td>2.788831e+07</td>\n",
       "      <td>636.973259</td>\n",
       "      <td>0.109447</td>\n",
       "      <td>0.058614</td>\n",
       "      <td>0.749534</td>\n",
       "      <td>0.762604</td>\n",
       "      <td>1.221899</td>\n",
       "      <td>35.780057</td>\n",
       "      <td>1.566455</td>\n",
       "      <td>12698.478665</td>\n",
       "    </tr>\n",
       "    <tr>\n",
       "      <th>min</th>\n",
       "      <td>1.500000e+06</td>\n",
       "      <td>503.000000</td>\n",
       "      <td>18.873713</td>\n",
       "      <td>72.754080</td>\n",
       "      <td>2.000000</td>\n",
       "      <td>0.000000</td>\n",
       "      <td>1.000000</td>\n",
       "      <td>1.000000</td>\n",
       "      <td>0.000000</td>\n",
       "      <td>1500.000000</td>\n",
       "    </tr>\n",
       "    <tr>\n",
       "      <th>25%</th>\n",
       "      <td>1.300000e+07</td>\n",
       "      <td>846.500000</td>\n",
       "      <td>19.081509</td>\n",
       "      <td>72.832930</td>\n",
       "      <td>2.000000</td>\n",
       "      <td>2.000000</td>\n",
       "      <td>1.000000</td>\n",
       "      <td>1.000000</td>\n",
       "      <td>2.000000</td>\n",
       "      <td>13709.934735</td>\n",
       "    </tr>\n",
       "    <tr>\n",
       "      <th>50%</th>\n",
       "      <td>1.900000e+07</td>\n",
       "      <td>1000.000000</td>\n",
       "      <td>19.147269</td>\n",
       "      <td>72.858019</td>\n",
       "      <td>2.000000</td>\n",
       "      <td>2.000000</td>\n",
       "      <td>2.000000</td>\n",
       "      <td>1.000000</td>\n",
       "      <td>2.000000</td>\n",
       "      <td>19285.714286</td>\n",
       "    </tr>\n",
       "    <tr>\n",
       "      <th>75%</th>\n",
       "      <td>3.000000e+07</td>\n",
       "      <td>1300.000000</td>\n",
       "      <td>19.213054</td>\n",
       "      <td>72.884691</td>\n",
       "      <td>3.000000</td>\n",
       "      <td>3.000000</td>\n",
       "      <td>3.000000</td>\n",
       "      <td>2.000000</td>\n",
       "      <td>3.000000</td>\n",
       "      <td>26500.000000</td>\n",
       "    </tr>\n",
       "    <tr>\n",
       "      <th>max</th>\n",
       "      <td>3.600000e+08</td>\n",
       "      <td>8000.000000</td>\n",
       "      <td>19.476239</td>\n",
       "      <td>73.197823</td>\n",
       "      <td>10.000000</td>\n",
       "      <td>10.000000</td>\n",
       "      <td>8.000000</td>\n",
       "      <td>801.000000</td>\n",
       "      <td>10.000000</td>\n",
       "      <td>119047.619048</td>\n",
       "    </tr>\n",
       "  </tbody>\n",
       "</table>\n",
       "</div>"
      ],
      "text/plain": [
       "              price         area     latitude    longitude     Bedrooms  \\\n",
       "count  6.255000e+03  6255.000000  6255.000000  6255.000000  6255.000000   \n",
       "mean   2.684187e+07  1185.625260    19.156772    72.868642     2.452278   \n",
       "std    2.788831e+07   636.973259     0.109447     0.058614     0.749534   \n",
       "min    1.500000e+06   503.000000    18.873713    72.754080     2.000000   \n",
       "25%    1.300000e+07   846.500000    19.081509    72.832930     2.000000   \n",
       "50%    1.900000e+07  1000.000000    19.147269    72.858019     2.000000   \n",
       "75%    3.000000e+07  1300.000000    19.213054    72.884691     3.000000   \n",
       "max    3.600000e+08  8000.000000    19.476239    73.197823    10.000000   \n",
       "\n",
       "         Bathrooms      Balcony      parking         Lift     Price_sqft  \n",
       "count  6255.000000  2376.000000  2129.000000  1678.000000    6255.000000  \n",
       "mean      2.425580     2.162879     4.662283     2.448153   21422.923601  \n",
       "std       0.762604     1.221899    35.780057     1.566455   12698.478665  \n",
       "min       0.000000     1.000000     1.000000     0.000000    1500.000000  \n",
       "25%       2.000000     1.000000     1.000000     2.000000   13709.934735  \n",
       "50%       2.000000     2.000000     1.000000     2.000000   19285.714286  \n",
       "75%       3.000000     3.000000     2.000000     3.000000   26500.000000  \n",
       "max      10.000000     8.000000   801.000000    10.000000  119047.619048  "
      ]
     },
     "execution_count": 714,
     "metadata": {},
     "output_type": "execute_result"
    }
   ],
   "source": [
    "df.describe()"
   ]
  },
  {
   "cell_type": "code",
   "execution_count": 715,
   "id": "e891288e",
   "metadata": {},
   "outputs": [
    {
     "data": {
      "text/html": [
       "<div>\n",
       "<style scoped>\n",
       "    .dataframe tbody tr th:only-of-type {\n",
       "        vertical-align: middle;\n",
       "    }\n",
       "\n",
       "    .dataframe tbody tr th {\n",
       "        vertical-align: top;\n",
       "    }\n",
       "\n",
       "    .dataframe thead th {\n",
       "        text-align: right;\n",
       "    }\n",
       "</style>\n",
       "<table border=\"1\" class=\"dataframe\">\n",
       "  <thead>\n",
       "    <tr style=\"text-align: right;\">\n",
       "      <th></th>\n",
       "      <th>Address</th>\n",
       "      <th>Status</th>\n",
       "      <th>neworold</th>\n",
       "      <th>Furnished_status</th>\n",
       "      <th>Landmarks</th>\n",
       "      <th>type_of_building</th>\n",
       "      <th>desc</th>\n",
       "    </tr>\n",
       "  </thead>\n",
       "  <tbody>\n",
       "    <tr>\n",
       "      <th>count</th>\n",
       "      <td>6255</td>\n",
       "      <td>5774</td>\n",
       "      <td>6255</td>\n",
       "      <td>3600</td>\n",
       "      <td>2617</td>\n",
       "      <td>6255</td>\n",
       "      <td>6255</td>\n",
       "    </tr>\n",
       "    <tr>\n",
       "      <th>unique</th>\n",
       "      <td>3632</td>\n",
       "      <td>2</td>\n",
       "      <td>2</td>\n",
       "      <td>3</td>\n",
       "      <td>2555</td>\n",
       "      <td>2</td>\n",
       "      <td>3445</td>\n",
       "    </tr>\n",
       "    <tr>\n",
       "      <th>top</th>\n",
       "      <td>Mira Road, Mumbai - Mira Road and Beyond, Maha...</td>\n",
       "      <td>Ready to Move</td>\n",
       "      <td>Resale</td>\n",
       "      <td>Unfurnished</td>\n",
       "      <td>Country Club</td>\n",
       "      <td>Flat</td>\n",
       "      <td>\\n</td>\n",
       "    </tr>\n",
       "    <tr>\n",
       "      <th>freq</th>\n",
       "      <td>154</td>\n",
       "      <td>5771</td>\n",
       "      <td>5515</td>\n",
       "      <td>1384</td>\n",
       "      <td>4</td>\n",
       "      <td>5828</td>\n",
       "      <td>2581</td>\n",
       "    </tr>\n",
       "  </tbody>\n",
       "</table>\n",
       "</div>"
      ],
      "text/plain": [
       "                                                  Address         Status  \\\n",
       "count                                                6255           5774   \n",
       "unique                                               3632              2   \n",
       "top     Mira Road, Mumbai - Mira Road and Beyond, Maha...  Ready to Move   \n",
       "freq                                                  154           5771   \n",
       "\n",
       "       neworold Furnished_status     Landmarks type_of_building  desc  \n",
       "count      6255             3600          2617             6255  6255  \n",
       "unique        2                3          2555                2  3445  \n",
       "top      Resale      Unfurnished  Country Club             Flat    \\n  \n",
       "freq       5515             1384             4             5828  2581  "
      ]
     },
     "execution_count": 715,
     "metadata": {},
     "output_type": "execute_result"
    }
   ],
   "source": [
    "df.describe(include=\"O\")"
   ]
  },
  {
   "cell_type": "code",
   "execution_count": 716,
   "id": "e69349c2",
   "metadata": {},
   "outputs": [],
   "source": [
    "df.drop(columns=['latitude','longitude','desc','Landmarks'],inplace=True)"
   ]
  },
  {
   "cell_type": "code",
   "execution_count": 717,
   "id": "a90d377d",
   "metadata": {},
   "outputs": [
    {
     "name": "stderr",
     "output_type": "stream",
     "text": [
      "C:\\Users\\Aniket\\AppData\\Local\\Temp\\ipykernel_260\\1134722465.py:1: FutureWarning: The default value of numeric_only in DataFrame.corr is deprecated. In a future version, it will default to False. Select only valid columns or specify the value of numeric_only to silence this warning.\n",
      "  df.corr()\n"
     ]
    },
    {
     "data": {
      "text/html": [
       "<div>\n",
       "<style scoped>\n",
       "    .dataframe tbody tr th:only-of-type {\n",
       "        vertical-align: middle;\n",
       "    }\n",
       "\n",
       "    .dataframe tbody tr th {\n",
       "        vertical-align: top;\n",
       "    }\n",
       "\n",
       "    .dataframe thead th {\n",
       "        text-align: right;\n",
       "    }\n",
       "</style>\n",
       "<table border=\"1\" class=\"dataframe\">\n",
       "  <thead>\n",
       "    <tr style=\"text-align: right;\">\n",
       "      <th></th>\n",
       "      <th>price</th>\n",
       "      <th>area</th>\n",
       "      <th>Bedrooms</th>\n",
       "      <th>Bathrooms</th>\n",
       "      <th>Balcony</th>\n",
       "      <th>parking</th>\n",
       "      <th>Lift</th>\n",
       "      <th>Price_sqft</th>\n",
       "    </tr>\n",
       "  </thead>\n",
       "  <tbody>\n",
       "    <tr>\n",
       "      <th>price</th>\n",
       "      <td>1.000000</td>\n",
       "      <td>0.712270</td>\n",
       "      <td>0.586444</td>\n",
       "      <td>0.639180</td>\n",
       "      <td>0.085394</td>\n",
       "      <td>-0.026116</td>\n",
       "      <td>0.226564</td>\n",
       "      <td>0.725421</td>\n",
       "    </tr>\n",
       "    <tr>\n",
       "      <th>area</th>\n",
       "      <td>0.712270</td>\n",
       "      <td>1.000000</td>\n",
       "      <td>0.709704</td>\n",
       "      <td>0.709748</td>\n",
       "      <td>0.168306</td>\n",
       "      <td>-0.022351</td>\n",
       "      <td>0.346959</td>\n",
       "      <td>0.178343</td>\n",
       "    </tr>\n",
       "    <tr>\n",
       "      <th>Bedrooms</th>\n",
       "      <td>0.586444</td>\n",
       "      <td>0.709704</td>\n",
       "      <td>1.000000</td>\n",
       "      <td>0.813488</td>\n",
       "      <td>0.132794</td>\n",
       "      <td>0.000979</td>\n",
       "      <td>0.194092</td>\n",
       "      <td>0.259073</td>\n",
       "    </tr>\n",
       "    <tr>\n",
       "      <th>Bathrooms</th>\n",
       "      <td>0.639180</td>\n",
       "      <td>0.709748</td>\n",
       "      <td>0.813488</td>\n",
       "      <td>1.000000</td>\n",
       "      <td>0.149155</td>\n",
       "      <td>-0.003092</td>\n",
       "      <td>0.279875</td>\n",
       "      <td>0.307079</td>\n",
       "    </tr>\n",
       "    <tr>\n",
       "      <th>Balcony</th>\n",
       "      <td>0.085394</td>\n",
       "      <td>0.168306</td>\n",
       "      <td>0.132794</td>\n",
       "      <td>0.149155</td>\n",
       "      <td>1.000000</td>\n",
       "      <td>-0.010921</td>\n",
       "      <td>0.107074</td>\n",
       "      <td>-0.072887</td>\n",
       "    </tr>\n",
       "    <tr>\n",
       "      <th>parking</th>\n",
       "      <td>-0.026116</td>\n",
       "      <td>-0.022351</td>\n",
       "      <td>0.000979</td>\n",
       "      <td>-0.003092</td>\n",
       "      <td>-0.010921</td>\n",
       "      <td>1.000000</td>\n",
       "      <td>-0.040054</td>\n",
       "      <td>-0.028804</td>\n",
       "    </tr>\n",
       "    <tr>\n",
       "      <th>Lift</th>\n",
       "      <td>0.226564</td>\n",
       "      <td>0.346959</td>\n",
       "      <td>0.194092</td>\n",
       "      <td>0.279875</td>\n",
       "      <td>0.107074</td>\n",
       "      <td>-0.040054</td>\n",
       "      <td>1.000000</td>\n",
       "      <td>0.061350</td>\n",
       "    </tr>\n",
       "    <tr>\n",
       "      <th>Price_sqft</th>\n",
       "      <td>0.725421</td>\n",
       "      <td>0.178343</td>\n",
       "      <td>0.259073</td>\n",
       "      <td>0.307079</td>\n",
       "      <td>-0.072887</td>\n",
       "      <td>-0.028804</td>\n",
       "      <td>0.061350</td>\n",
       "      <td>1.000000</td>\n",
       "    </tr>\n",
       "  </tbody>\n",
       "</table>\n",
       "</div>"
      ],
      "text/plain": [
       "               price      area  Bedrooms  Bathrooms   Balcony   parking  \\\n",
       "price       1.000000  0.712270  0.586444   0.639180  0.085394 -0.026116   \n",
       "area        0.712270  1.000000  0.709704   0.709748  0.168306 -0.022351   \n",
       "Bedrooms    0.586444  0.709704  1.000000   0.813488  0.132794  0.000979   \n",
       "Bathrooms   0.639180  0.709748  0.813488   1.000000  0.149155 -0.003092   \n",
       "Balcony     0.085394  0.168306  0.132794   0.149155  1.000000 -0.010921   \n",
       "parking    -0.026116 -0.022351  0.000979  -0.003092 -0.010921  1.000000   \n",
       "Lift        0.226564  0.346959  0.194092   0.279875  0.107074 -0.040054   \n",
       "Price_sqft  0.725421  0.178343  0.259073   0.307079 -0.072887 -0.028804   \n",
       "\n",
       "                Lift  Price_sqft  \n",
       "price       0.226564    0.725421  \n",
       "area        0.346959    0.178343  \n",
       "Bedrooms    0.194092    0.259073  \n",
       "Bathrooms   0.279875    0.307079  \n",
       "Balcony     0.107074   -0.072887  \n",
       "parking    -0.040054   -0.028804  \n",
       "Lift        1.000000    0.061350  \n",
       "Price_sqft  0.061350    1.000000  "
      ]
     },
     "execution_count": 717,
     "metadata": {},
     "output_type": "execute_result"
    }
   ],
   "source": [
    "df.corr()"
   ]
  },
  {
   "cell_type": "code",
   "execution_count": 718,
   "id": "2075986b",
   "metadata": {},
   "outputs": [],
   "source": [
    "#df = df[['price','area','Bedrooms','Bathrooms','Balcony','Lift','parking','Address','Status','neworold','Furnished_status','type_of_building','Price_sqft']]"
   ]
  },
  {
   "cell_type": "code",
   "execution_count": 719,
   "id": "0b8d9f3b",
   "metadata": {},
   "outputs": [
    {
     "name": "stderr",
     "output_type": "stream",
     "text": [
      "C:\\Users\\Aniket\\AppData\\Local\\Temp\\ipykernel_260\\1665899112.py:1: FutureWarning: The default value of numeric_only in DataFrame.skew is deprecated. In a future version, it will default to False. In addition, specifying 'numeric_only=None' is deprecated. Select only valid columns or specify the value of numeric_only to silence this warning.\n",
      "  df.skew()\n"
     ]
    },
    {
     "data": {
      "text/plain": [
       "price          4.402213\n",
       "area           3.660917\n",
       "Bedrooms       2.462564\n",
       "Bathrooms      2.344295\n",
       "Balcony        0.942455\n",
       "parking       15.782868\n",
       "Lift           1.755837\n",
       "Price_sqft     1.833248\n",
       "dtype: float64"
      ]
     },
     "execution_count": 719,
     "metadata": {},
     "output_type": "execute_result"
    }
   ],
   "source": [
    "df.skew()"
   ]
  },
  {
   "cell_type": "markdown",
   "id": "050be1b9",
   "metadata": {},
   "source": [
    "## Filling NAN values"
   ]
  },
  {
   "cell_type": "code",
   "execution_count": 720,
   "id": "94037c2b",
   "metadata": {},
   "outputs": [
    {
     "data": {
      "text/plain": [
       "price                  0\n",
       "Address                0\n",
       "area                   0\n",
       "Bedrooms               0\n",
       "Bathrooms              0\n",
       "Balcony             3879\n",
       "Status               481\n",
       "neworold               0\n",
       "parking             4126\n",
       "Furnished_status    2655\n",
       "Lift                4577\n",
       "type_of_building       0\n",
       "Price_sqft             0\n",
       "dtype: int64"
      ]
     },
     "execution_count": 720,
     "metadata": {},
     "output_type": "execute_result"
    }
   ],
   "source": [
    "df.isnull().sum()"
   ]
  },
  {
   "cell_type": "markdown",
   "id": "458d337e",
   "metadata": {},
   "source": [
    "### (i) Balcony"
   ]
  },
  {
   "cell_type": "code",
   "execution_count": 721,
   "id": "34dd64c0",
   "metadata": {},
   "outputs": [
    {
     "data": {
      "text/plain": [
       "0.9424550994651261"
      ]
     },
     "execution_count": 721,
     "metadata": {},
     "output_type": "execute_result"
    }
   ],
   "source": [
    "df['Balcony'].skew()"
   ]
  },
  {
   "cell_type": "code",
   "execution_count": 722,
   "id": "b9e5c39e",
   "metadata": {},
   "outputs": [],
   "source": [
    "df['Balcony'].replace(np.nan,0,inplace=True)"
   ]
  },
  {
   "cell_type": "code",
   "execution_count": 723,
   "id": "ea710db0",
   "metadata": {},
   "outputs": [
    {
     "data": {
      "text/plain": [
       "0.0    3879\n",
       "1.0     949\n",
       "2.0     583\n",
       "3.0     468\n",
       "4.0     297\n",
       "5.0      56\n",
       "6.0      12\n",
       "7.0       8\n",
       "8.0       3\n",
       "Name: Balcony, dtype: int64"
      ]
     },
     "execution_count": 723,
     "metadata": {},
     "output_type": "execute_result"
    }
   ],
   "source": [
    "df['Balcony'].value_counts()"
   ]
  },
  {
   "cell_type": "code",
   "execution_count": 724,
   "id": "1988cbad",
   "metadata": {},
   "outputs": [],
   "source": [
    "#balcony = df['Balcony'].value_counts()\n",
    "#balcony_count = balcony[balcony < 100]\n",
    "#df['Balcony'] = df['Balcony'].apply(lambda x: 'Other' if x in balcony_count else x)"
   ]
  },
  {
   "cell_type": "code",
   "execution_count": 725,
   "id": "59457059",
   "metadata": {},
   "outputs": [],
   "source": [
    "#df['Balcony'].value_counts()"
   ]
  },
  {
   "cell_type": "code",
   "execution_count": 726,
   "id": "0f5a3646",
   "metadata": {},
   "outputs": [],
   "source": [
    "#df.drop(df[df['Balcony']=='Other'].index,axis=0,inplace=True)"
   ]
  },
  {
   "cell_type": "code",
   "execution_count": 727,
   "id": "d2cf2ac2",
   "metadata": {},
   "outputs": [],
   "source": [
    "#df['Balcony'] = pd.to_numeric(df['Balcony'])"
   ]
  },
  {
   "cell_type": "markdown",
   "id": "3e29b75a",
   "metadata": {},
   "source": [
    "### (ii) Status"
   ]
  },
  {
   "cell_type": "code",
   "execution_count": 728,
   "id": "108f687b",
   "metadata": {},
   "outputs": [],
   "source": [
    "df['Status'].replace(np.nan,'Ready to Move',inplace=True)"
   ]
  },
  {
   "cell_type": "code",
   "execution_count": 729,
   "id": "fbd5e0de",
   "metadata": {},
   "outputs": [
    {
     "data": {
      "text/plain": [
       "Ready to Move         6252\n",
       "Under Construction       3\n",
       "Name: Status, dtype: int64"
      ]
     },
     "execution_count": 729,
     "metadata": {},
     "output_type": "execute_result"
    }
   ],
   "source": [
    "df['Status'].value_counts()"
   ]
  },
  {
   "cell_type": "markdown",
   "id": "35462114",
   "metadata": {},
   "source": [
    "### (iii) Parking"
   ]
  },
  {
   "cell_type": "code",
   "execution_count": 730,
   "id": "952ca3a0",
   "metadata": {},
   "outputs": [],
   "source": [
    "df['parking'].replace(np.nan,0,inplace=True)"
   ]
  },
  {
   "cell_type": "code",
   "execution_count": 731,
   "id": "f360f419",
   "metadata": {},
   "outputs": [
    {
     "data": {
      "text/plain": [
       "0.0      4126\n",
       "1.0      1421\n",
       "2.0       509\n",
       "3.0        87\n",
       "4.0        33\n",
       "5.0         9\n",
       "10.0        9\n",
       "20.0        5\n",
       "12.0        4\n",
       "18.0        3\n",
       "30.0        3\n",
       "6.0         3\n",
       "14.0        2\n",
       "15.0        2\n",
       "9.0         2\n",
       "401.0       2\n",
       "7.0         2\n",
       "40.0        2\n",
       "104.0       2\n",
       "105.0       2\n",
       "11.0        2\n",
       "205.0       2\n",
       "65.0        1\n",
       "24.0        1\n",
       "601.0       1\n",
       "22.0        1\n",
       "60.0        1\n",
       "26.0        1\n",
       "801.0       1\n",
       "102.0       1\n",
       "302.0       1\n",
       "125.0       1\n",
       "55.0        1\n",
       "418.0       1\n",
       "101.0       1\n",
       "21.0        1\n",
       "702.0       1\n",
       "163.0       1\n",
       "202.0       1\n",
       "150.0       1\n",
       "185.0       1\n",
       "75.0        1\n",
       "603.0       1\n",
       "8.0         1\n",
       "16.0        1\n",
       "Name: parking, dtype: int64"
      ]
     },
     "execution_count": 731,
     "metadata": {},
     "output_type": "execute_result"
    }
   ],
   "source": [
    "df['parking'].value_counts()"
   ]
  },
  {
   "cell_type": "code",
   "execution_count": 732,
   "id": "5663f721",
   "metadata": {},
   "outputs": [],
   "source": [
    "parking = df['parking'].value_counts()\n",
    "parking_count = parking[parking < 50]\n",
    "df['parking'] = df['parking'].apply(lambda x: 'Other' if x in parking_count else x)"
   ]
  },
  {
   "cell_type": "code",
   "execution_count": 733,
   "id": "8430212f",
   "metadata": {},
   "outputs": [
    {
     "data": {
      "text/plain": [
       "0.0      4126\n",
       "1.0      1421\n",
       "2.0       509\n",
       "Other     112\n",
       "3.0        87\n",
       "Name: parking, dtype: int64"
      ]
     },
     "execution_count": 733,
     "metadata": {},
     "output_type": "execute_result"
    }
   ],
   "source": [
    "df['parking'].value_counts()"
   ]
  },
  {
   "cell_type": "code",
   "execution_count": 734,
   "id": "2c730c67",
   "metadata": {},
   "outputs": [],
   "source": [
    "df.drop(df[df['parking']=='Other'].index,axis=0,inplace=True)"
   ]
  },
  {
   "cell_type": "code",
   "execution_count": 735,
   "id": "690d867a",
   "metadata": {},
   "outputs": [],
   "source": [
    "df['parking'] = pd.to_numeric(df['parking'])"
   ]
  },
  {
   "cell_type": "markdown",
   "id": "09996235",
   "metadata": {},
   "source": [
    "### (iv) Furnished Status"
   ]
  },
  {
   "cell_type": "code",
   "execution_count": 736,
   "id": "b8cf5c4b",
   "metadata": {},
   "outputs": [
    {
     "data": {
      "text/plain": [
       "0    Unfurnished\n",
       "Name: Furnished_status, dtype: object"
      ]
     },
     "execution_count": 736,
     "metadata": {},
     "output_type": "execute_result"
    }
   ],
   "source": [
    "df['Furnished_status'].mode()"
   ]
  },
  {
   "cell_type": "code",
   "execution_count": 737,
   "id": "5a4923e6",
   "metadata": {},
   "outputs": [
    {
     "data": {
      "text/plain": [
       "Text(0.5, 1.0, 'Status vs Price')"
      ]
     },
     "execution_count": 737,
     "metadata": {},
     "output_type": "execute_result"
    },
    {
     "data": {
      "image/png": "[encoded data removed]",
      "text/plain": [
       "<Figure size 432x288 with 1 Axes>"
      ]
     },
     "metadata": {
      "needs_background": "light"
     },
     "output_type": "display_data"
    }
   ],
   "source": [
    "fig = plt.figure()\n",
    "ax = fig.add_subplot(111)\n",
    "\n",
    "df[df['Furnished_status']=='Unfurnished']['price'].plot(kind='kde',ax=ax)\n",
    "\n",
    "df[df['Furnished_status'].isnull()]['price'].plot(kind='kde',ax=ax,color='red')\n",
    "\n",
    "lines, labels = ax.get_legend_handles_labels()\n",
    "labels = ['Status with UnFursnished','Status with Null value']\n",
    "ax.legend(lines, labels, loc='best')\n",
    "\n",
    "plt.title('Status vs Price')"
   ]
  },
  {
   "cell_type": "code",
   "execution_count": 738,
   "id": "88bb8a28",
   "metadata": {},
   "outputs": [],
   "source": [
    "df['Furnished_status'].replace(np.nan,'Unfurnished',inplace=True)"
   ]
  },
  {
   "cell_type": "markdown",
   "id": "1f123162",
   "metadata": {},
   "source": [
    "### (vi) Bedrooms"
   ]
  },
  {
   "cell_type": "code",
   "execution_count": 739,
   "id": "03cd03b2",
   "metadata": {},
   "outputs": [
    {
     "data": {
      "text/plain": [
       "2.0     4042\n",
       "3.0     1651\n",
       "4.0      349\n",
       "5.0       66\n",
       "6.0       22\n",
       "7.0        8\n",
       "8.0        3\n",
       "10.0       2\n",
       "Name: Bedrooms, dtype: int64"
      ]
     },
     "execution_count": 739,
     "metadata": {},
     "output_type": "execute_result"
    }
   ],
   "source": [
    "df['Bedrooms'].value_counts()"
   ]
  },
  {
   "cell_type": "code",
   "execution_count": 740,
   "id": "29c6d767",
   "metadata": {},
   "outputs": [],
   "source": [
    "#bedroom = df['Bedrooms'].value_counts()\n",
    "#bedroom_count = bedroom[bedroom < 100]\n",
    "#df['Bedrooms'] = df['Bedrooms'].apply(lambda x: 'Other' if x in bedroom_count else x)"
   ]
  },
  {
   "cell_type": "code",
   "execution_count": 741,
   "id": "877748dc",
   "metadata": {},
   "outputs": [],
   "source": [
    "#df.drop(df[df['Bedrooms']=='Other'].index,axis=0,inplace=True)"
   ]
  },
  {
   "cell_type": "code",
   "execution_count": 742,
   "id": "3ccb0896",
   "metadata": {},
   "outputs": [],
   "source": [
    "#df['Bedrooms'] = pd.to_numeric(df['Bedrooms'])"
   ]
  },
  {
   "cell_type": "markdown",
   "id": "9e2d2c1d",
   "metadata": {},
   "source": [
    "### (vii) Bathrooms"
   ]
  },
  {
   "cell_type": "code",
   "execution_count": 743,
   "id": "68c4a326",
   "metadata": {},
   "outputs": [
    {
     "data": {
      "text/plain": [
       "2.0     4273\n",
       "3.0     1367\n",
       "4.0      374\n",
       "5.0       97\n",
       "6.0       23\n",
       "7.0        5\n",
       "8.0        2\n",
       "10.0       1\n",
       "0.0        1\n",
       "Name: Bathrooms, dtype: int64"
      ]
     },
     "execution_count": 743,
     "metadata": {},
     "output_type": "execute_result"
    }
   ],
   "source": [
    "df['Bathrooms'].value_counts()"
   ]
  },
  {
   "cell_type": "code",
   "execution_count": 744,
   "id": "7f447ea0",
   "metadata": {},
   "outputs": [],
   "source": [
    "#bathrooms = df['Bathrooms'].value_counts()\n",
    "#bathrooms_count = bathrooms[bathrooms < 50]\n",
    "#df['Bathrooms'] = df['Bathrooms'].apply(lambda x: 'Other' if x in bathrooms_count else x)"
   ]
  },
  {
   "cell_type": "code",
   "execution_count": 745,
   "id": "b6c9f2a8",
   "metadata": {},
   "outputs": [],
   "source": [
    "#df.drop(df[df['Bathrooms']=='Other'].index,axis=0,inplace=True)"
   ]
  },
  {
   "cell_type": "code",
   "execution_count": 746,
   "id": "c8dbd7ce",
   "metadata": {},
   "outputs": [],
   "source": [
    "#df['Bathrooms'] = pd.to_numeric(df['Bathrooms'])"
   ]
  },
  {
   "cell_type": "markdown",
   "id": "2f5f4244",
   "metadata": {},
   "source": [
    "### (v) Lift"
   ]
  },
  {
   "cell_type": "code",
   "execution_count": 747,
   "id": "d404a2ae",
   "metadata": {},
   "outputs": [
    {
     "data": {
      "text/plain": [
       "2.0"
      ]
     },
     "execution_count": 747,
     "metadata": {},
     "output_type": "execute_result"
    }
   ],
   "source": [
    "df['Lift'].median()"
   ]
  },
  {
   "cell_type": "code",
   "execution_count": 748,
   "id": "81255b5c",
   "metadata": {},
   "outputs": [],
   "source": [
    "df['Lift'].replace(np.nan,2.0,inplace=True)"
   ]
  },
  {
   "cell_type": "code",
   "execution_count": 749,
   "id": "f44452c1",
   "metadata": {},
   "outputs": [
    {
     "data": {
      "text/plain": [
       "2.0     5272\n",
       "1.0      306\n",
       "3.0      214\n",
       "4.0      165\n",
       "0.0       51\n",
       "5.0       48\n",
       "6.0       48\n",
       "7.0       18\n",
       "8.0       10\n",
       "10.0       8\n",
       "9.0        3\n",
       "Name: Lift, dtype: int64"
      ]
     },
     "execution_count": 749,
     "metadata": {},
     "output_type": "execute_result"
    }
   ],
   "source": [
    "df['Lift'].value_counts()"
   ]
  },
  {
   "cell_type": "code",
   "execution_count": 750,
   "id": "1b874529",
   "metadata": {},
   "outputs": [],
   "source": [
    "lift = df['Lift'].value_counts()\n",
    "lift_count = lift[lift < 50]\n",
    "df['Lift'] = df['Lift'].apply(lambda x: 'Other' if x in lift_count else x)"
   ]
  },
  {
   "cell_type": "code",
   "execution_count": 751,
   "id": "40fed8d9",
   "metadata": {},
   "outputs": [],
   "source": [
    "df.drop(df[df['Lift']=='Other'].index,axis=0,inplace=True)\n",
    "df['Lift'] = pd.to_numeric(df['Lift'])"
   ]
  },
  {
   "cell_type": "code",
   "execution_count": 752,
   "id": "740cc157",
   "metadata": {},
   "outputs": [],
   "source": [
    "df.drop(df[df['type_of_building']=='Individual House'].index,axis=0,inplace=True)"
   ]
  },
  {
   "cell_type": "code",
   "execution_count": 753,
   "id": "4b5c96f1",
   "metadata": {},
   "outputs": [
    {
     "name": "stderr",
     "output_type": "stream",
     "text": [
      "C:\\Users\\Aniket\\AppData\\Local\\Temp\\ipykernel_260\\1665899112.py:1: FutureWarning: The default value of numeric_only in DataFrame.skew is deprecated. In a future version, it will default to False. In addition, specifying 'numeric_only=None' is deprecated. Select only valid columns or specify the value of numeric_only to silence this warning.\n",
      "  df.skew()\n"
     ]
    },
    {
     "data": {
      "text/plain": [
       "price         4.178106\n",
       "area          3.510615\n",
       "Bedrooms      2.390677\n",
       "Bathrooms     2.233694\n",
       "Balcony       1.579769\n",
       "parking       1.597719\n",
       "Lift          1.144069\n",
       "Price_sqft    1.878081\n",
       "dtype: float64"
      ]
     },
     "execution_count": 753,
     "metadata": {},
     "output_type": "execute_result"
    }
   ],
   "source": [
    "df.skew()"
   ]
  },
  {
   "cell_type": "markdown",
   "id": "f18d9746",
   "metadata": {},
   "source": [
    "##  Extracing Station Name from Address"
   ]
  },
  {
   "cell_type": "code",
   "execution_count": 754,
   "id": "64b73589",
   "metadata": {},
   "outputs": [
    {
     "data": {
      "text/html": [
       "<div>\n",
       "<style scoped>\n",
       "    .dataframe tbody tr th:only-of-type {\n",
       "        vertical-align: middle;\n",
       "    }\n",
       "\n",
       "    .dataframe tbody tr th {\n",
       "        vertical-align: top;\n",
       "    }\n",
       "\n",
       "    .dataframe thead th {\n",
       "        text-align: right;\n",
       "    }\n",
       "</style>\n",
       "<table border=\"1\" class=\"dataframe\">\n",
       "  <thead>\n",
       "    <tr style=\"text-align: right;\">\n",
       "      <th></th>\n",
       "      <th>price</th>\n",
       "      <th>Address</th>\n",
       "      <th>area</th>\n",
       "      <th>Bedrooms</th>\n",
       "      <th>Bathrooms</th>\n",
       "      <th>Balcony</th>\n",
       "      <th>Status</th>\n",
       "      <th>neworold</th>\n",
       "      <th>parking</th>\n",
       "      <th>Furnished_status</th>\n",
       "      <th>Lift</th>\n",
       "      <th>type_of_building</th>\n",
       "      <th>Price_sqft</th>\n",
       "    </tr>\n",
       "  </thead>\n",
       "  <tbody>\n",
       "    <tr>\n",
       "      <th>0</th>\n",
       "      <td>22400000.0</td>\n",
       "      <td>Chembur, Mumbai - Harbour Line, Maharashtra</td>\n",
       "      <td>629.0</td>\n",
       "      <td>2.0</td>\n",
       "      <td>2.0</td>\n",
       "      <td>0.0</td>\n",
       "      <td>Under Construction</td>\n",
       "      <td>New Property</td>\n",
       "      <td>0.0</td>\n",
       "      <td>Unfurnished</td>\n",
       "      <td>2.0</td>\n",
       "      <td>Flat</td>\n",
       "      <td>35612.082671</td>\n",
       "    </tr>\n",
       "  </tbody>\n",
       "</table>\n",
       "</div>"
      ],
      "text/plain": [
       "        price                                      Address   area  Bedrooms  \\\n",
       "0  22400000.0  Chembur, Mumbai - Harbour Line, Maharashtra  629.0       2.0   \n",
       "\n",
       "   Bathrooms  Balcony              Status      neworold  parking  \\\n",
       "0        2.0      0.0  Under Construction  New Property      0.0   \n",
       "\n",
       "  Furnished_status  Lift type_of_building    Price_sqft  \n",
       "0      Unfurnished   2.0             Flat  35612.082671  "
      ]
     },
     "execution_count": 754,
     "metadata": {},
     "output_type": "execute_result"
    }
   ],
   "source": [
    "df.head(1)"
   ]
  },
  {
   "cell_type": "markdown",
   "id": "ec7e0e79",
   "metadata": {},
   "source": [
    "From Address column, we have to fetch the name of different stations."
   ]
  },
  {
   "cell_type": "code",
   "execution_count": 755,
   "id": "5f8a7ee8",
   "metadata": {},
   "outputs": [],
   "source": [
    "# Finding the Length of Address column after split\n",
    "#len(df['Address'].str.split(\",\")[1])"
   ]
  },
  {
   "cell_type": "code",
   "execution_count": 756,
   "id": "7534d20a",
   "metadata": {},
   "outputs": [
    {
     "data": {
      "text/html": [
       "<div>\n",
       "<style scoped>\n",
       "    .dataframe tbody tr th:only-of-type {\n",
       "        vertical-align: middle;\n",
       "    }\n",
       "\n",
       "    .dataframe tbody tr th {\n",
       "        vertical-align: top;\n",
       "    }\n",
       "\n",
       "    .dataframe thead th {\n",
       "        text-align: right;\n",
       "    }\n",
       "</style>\n",
       "<table border=\"1\" class=\"dataframe\">\n",
       "  <thead>\n",
       "    <tr style=\"text-align: right;\">\n",
       "      <th></th>\n",
       "      <th>price</th>\n",
       "      <th>Address</th>\n",
       "      <th>area</th>\n",
       "      <th>Bedrooms</th>\n",
       "      <th>Bathrooms</th>\n",
       "      <th>Balcony</th>\n",
       "      <th>Status</th>\n",
       "      <th>neworold</th>\n",
       "      <th>parking</th>\n",
       "      <th>Furnished_status</th>\n",
       "      <th>Lift</th>\n",
       "      <th>type_of_building</th>\n",
       "      <th>Price_sqft</th>\n",
       "    </tr>\n",
       "  </thead>\n",
       "  <tbody>\n",
       "    <tr>\n",
       "      <th>896</th>\n",
       "      <td>27000000.0</td>\n",
       "      <td>Mumbai, Maharashtra</td>\n",
       "      <td>786.0</td>\n",
       "      <td>2.0</td>\n",
       "      <td>2.0</td>\n",
       "      <td>3.0</td>\n",
       "      <td>Ready to Move</td>\n",
       "      <td>Resale</td>\n",
       "      <td>0.0</td>\n",
       "      <td>Unfurnished</td>\n",
       "      <td>2.0</td>\n",
       "      <td>Flat</td>\n",
       "      <td>34351.145038</td>\n",
       "    </tr>\n",
       "    <tr>\n",
       "      <th>3043</th>\n",
       "      <td>4300000.0</td>\n",
       "      <td>Mumbai, Maharashtra</td>\n",
       "      <td>745.0</td>\n",
       "      <td>2.0</td>\n",
       "      <td>2.0</td>\n",
       "      <td>3.0</td>\n",
       "      <td>Ready to Move</td>\n",
       "      <td>Resale</td>\n",
       "      <td>0.0</td>\n",
       "      <td>Unfurnished</td>\n",
       "      <td>2.0</td>\n",
       "      <td>Flat</td>\n",
       "      <td>5771.812081</td>\n",
       "    </tr>\n",
       "    <tr>\n",
       "      <th>3425</th>\n",
       "      <td>35000000.0</td>\n",
       "      <td>Mumbai, Maharashtra</td>\n",
       "      <td>1350.0</td>\n",
       "      <td>3.0</td>\n",
       "      <td>3.0</td>\n",
       "      <td>0.0</td>\n",
       "      <td>Ready to Move</td>\n",
       "      <td>Resale</td>\n",
       "      <td>0.0</td>\n",
       "      <td>Semi-Furnished</td>\n",
       "      <td>2.0</td>\n",
       "      <td>Flat</td>\n",
       "      <td>25925.925926</td>\n",
       "    </tr>\n",
       "    <tr>\n",
       "      <th>3780</th>\n",
       "      <td>6700000.0</td>\n",
       "      <td>Mumbai, Maharashtra</td>\n",
       "      <td>800.0</td>\n",
       "      <td>2.0</td>\n",
       "      <td>2.0</td>\n",
       "      <td>0.0</td>\n",
       "      <td>Ready to Move</td>\n",
       "      <td>Resale</td>\n",
       "      <td>0.0</td>\n",
       "      <td>Unfurnished</td>\n",
       "      <td>2.0</td>\n",
       "      <td>Flat</td>\n",
       "      <td>8375.000000</td>\n",
       "    </tr>\n",
       "    <tr>\n",
       "      <th>3792</th>\n",
       "      <td>6000000.0</td>\n",
       "      <td>Mumbai - Western Suburbs, Maharashtra</td>\n",
       "      <td>775.0</td>\n",
       "      <td>2.0</td>\n",
       "      <td>2.0</td>\n",
       "      <td>0.0</td>\n",
       "      <td>Ready to Move</td>\n",
       "      <td>Resale</td>\n",
       "      <td>0.0</td>\n",
       "      <td>Unfurnished</td>\n",
       "      <td>2.0</td>\n",
       "      <td>Flat</td>\n",
       "      <td>7741.935484</td>\n",
       "    </tr>\n",
       "    <tr>\n",
       "      <th>3872</th>\n",
       "      <td>6500000.0</td>\n",
       "      <td>Mumbai, Maharashtra</td>\n",
       "      <td>990.0</td>\n",
       "      <td>2.0</td>\n",
       "      <td>2.0</td>\n",
       "      <td>1.0</td>\n",
       "      <td>Ready to Move</td>\n",
       "      <td>New Property</td>\n",
       "      <td>0.0</td>\n",
       "      <td>Unfurnished</td>\n",
       "      <td>2.0</td>\n",
       "      <td>Flat</td>\n",
       "      <td>6565.656566</td>\n",
       "    </tr>\n",
       "  </tbody>\n",
       "</table>\n",
       "</div>"
      ],
      "text/plain": [
       "           price                                Address    area  Bedrooms  \\\n",
       "896   27000000.0                    Mumbai, Maharashtra   786.0       2.0   \n",
       "3043   4300000.0                    Mumbai, Maharashtra   745.0       2.0   \n",
       "3425  35000000.0                    Mumbai, Maharashtra  1350.0       3.0   \n",
       "3780   6700000.0                    Mumbai, Maharashtra   800.0       2.0   \n",
       "3792   6000000.0  Mumbai - Western Suburbs, Maharashtra   775.0       2.0   \n",
       "3872   6500000.0                    Mumbai, Maharashtra   990.0       2.0   \n",
       "\n",
       "      Bathrooms  Balcony         Status      neworold  parking  \\\n",
       "896         2.0      3.0  Ready to Move        Resale      0.0   \n",
       "3043        2.0      3.0  Ready to Move        Resale      0.0   \n",
       "3425        3.0      0.0  Ready to Move        Resale      0.0   \n",
       "3780        2.0      0.0  Ready to Move        Resale      0.0   \n",
       "3792        2.0      0.0  Ready to Move        Resale      0.0   \n",
       "3872        2.0      1.0  Ready to Move  New Property      0.0   \n",
       "\n",
       "     Furnished_status  Lift type_of_building    Price_sqft  \n",
       "896       Unfurnished   2.0             Flat  34351.145038  \n",
       "3043      Unfurnished   2.0             Flat   5771.812081  \n",
       "3425   Semi-Furnished   2.0             Flat  25925.925926  \n",
       "3780      Unfurnished   2.0             Flat   8375.000000  \n",
       "3792      Unfurnished   2.0             Flat   7741.935484  \n",
       "3872      Unfurnished   2.0             Flat   6565.656566  "
      ]
     },
     "execution_count": 756,
     "metadata": {},
     "output_type": "execute_result"
    }
   ],
   "source": [
    "df[df['Address'].apply(lambda x : len(x.split(\",\")) >=3) == False]"
   ]
  },
  {
   "cell_type": "code",
   "execution_count": 757,
   "id": "bba4be9b",
   "metadata": {},
   "outputs": [],
   "source": [
    "df.drop(df[df['Address']=='Mumbai, Maharashtra'].index,axis=0,inplace=True)\n",
    "df.drop(df[df['Address']=='Mumbai - Western Suburbs, Maharashtra'].index,axis=0,inplace=True)"
   ]
  },
  {
   "cell_type": "code",
   "execution_count": 758,
   "id": "1af0ca53",
   "metadata": {},
   "outputs": [],
   "source": [
    "# Fetch the station name\n",
    "df['City_area'] = df['Address'].str.split(',').apply(lambda x: x[-3])"
   ]
  },
  {
   "cell_type": "code",
   "execution_count": 759,
   "id": "569b278a",
   "metadata": {},
   "outputs": [],
   "source": [
    "df['City_area'] = df['City_area'].apply(lambda x: x.strip())"
   ]
  },
  {
   "cell_type": "code",
   "execution_count": 760,
   "id": "76fd7f8e",
   "metadata": {},
   "outputs": [
    {
     "data": {
      "text/plain": [
       "598"
      ]
     },
     "execution_count": 760,
     "metadata": {},
     "output_type": "execute_result"
    }
   ],
   "source": [
    "df['City_area'].nunique()"
   ]
  },
  {
   "cell_type": "code",
   "execution_count": 761,
   "id": "9484ce9c",
   "metadata": {},
   "outputs": [],
   "source": [
    "df['City_area'].replace(\"Goregaon East\",\"Goregaon\",inplace=True)\n",
    "df['City_area'].replace(\"Goregaon West\",\"Goregaon\",inplace=True)\n",
    "\n",
    "df['City_area'].replace(\"Vasai West\",\"Vasai\",inplace=True)\n",
    "df['City_area'].replace(\"Vasai East\",\"Vasai\",inplace=True)\n",
    "\n",
    "df['City_area'].replace(\"Khar Danda\",\"Khar\",inplace=True)\n",
    "df['City_area'].replace(\"Khar West\",\"Khar\",inplace=True)\n",
    "df['City_area'].replace(\"Khar East\",\"Khar\",inplace=True)\n",
    "\n",
    "df['City_area'].replace(\"Geeta Nagar\",\"Bhayandar\",inplace=True)\n",
    "df['City_area'].replace(\"Bhayandar West\",\"Bhayandar\",inplace=True)\n",
    "df['City_area'].replace(\"Bhayandar East\",\"Bhayandar\",inplace=True)\n",
    "\n",
    "df['City_area'].replace(\"Kurla West\",\"Kurla\",inplace=True)\n",
    "df['City_area'].replace(\"Kurla East\",\"Kurla\",inplace=True)\n",
    "df['City_area'].replace(\"Nehru Nagar\",\"Kurla\",inplace=True)\n",
    "\n",
    "df['City_area'].replace(\"Tagore Nagar\",\"Vikhroli\",inplace=True)\n",
    "df['City_area'].replace(\"Vikhroli East\",\"Vikhroli\",inplace=True)\n",
    "df['City_area'].replace(\"Vikhroli West\",\"Vikhroli\",inplace=True)\n",
    "\n",
    "df['City_area'].replace(\"Malad East\",\"Malad\",inplace=True)\n",
    "df['City_area'].replace(\"Malad West\",\"Malad\",inplace=True)"
   ]
  },
  {
   "cell_type": "code",
   "execution_count": 762,
   "id": "9b1b4d8d",
   "metadata": {},
   "outputs": [],
   "source": [
    "df['City_area'].replace(\"Bhulabhai Desai Marg\",\"Vikroli\",inplace=True)\n",
    "df['City_area'].replace(\"Vikroli\",\"Vikhroli\",inplace=True)"
   ]
  },
  {
   "cell_type": "code",
   "execution_count": 763,
   "id": "4d79871e",
   "metadata": {},
   "outputs": [],
   "source": [
    "df['City_area'].replace(\"New Tilak Nagar - Kurla East\",\"Kurla\",inplace=True)\n",
    "df['City_area'].replace(\"Govandi Station Road\",\"Govandi\",inplace=True)\n",
    "df['City_area'].replace(\"Kings Circle\",\"Matunga\",inplace=True)\n",
    "df['City_area'].replace(\"Navi Mumbai-Khargar-Panvel-Ulwe\",\"Navi Mumbai\",inplace=True)"
   ]
  },
  {
   "cell_type": "code",
   "execution_count": 764,
   "id": "5a3a1fb9",
   "metadata": {},
   "outputs": [],
   "source": [
    "df['City_area'].replace(\"Byculla East\",\"Byculla\",inplace=True)\n",
    "df['City_area'].replace(\"Byculla West\",\"Byculla\",inplace=True)\n",
    "\n",
    "df['City_area'].replace(\"Lower Parel West\",\"Lower Parel\",inplace=True)\n",
    "df['City_area'].replace(\"Lower Parel East\",\"Lower Parel\",inplace=True)\n",
    "\n",
    "df['City_area'].replace(\"Mahim West\",\"Mahim\",inplace=True)\n",
    "df['City_area'].replace(\"Mahim East\",\"Mahim\",inplace=True)\n",
    "\n",
    "df['City_area'].replace(\"Matunga East\",\"Matunga\",inplace=True)\n",
    "df['City_area'].replace(\"Matunga West\",\"Matunga\",inplace=True)\n",
    "\n",
    "df['City_area'].replace(\"Naigaon East\",\"Naigaon\",inplace=True)\n",
    "df['City_area'].replace(\"Naigaon West\",\"Naigaon\",inplace=True)\n",
    "\n",
    "df['City_area'].replace(\"Nahur East\",\"Nahur\",inplace=True)\n",
    "df['City_area'].replace(\"Nahur West\",\"Nahur\",inplace=True)"
   ]
  },
  {
   "cell_type": "code",
   "execution_count": 765,
   "id": "71a658c1",
   "metadata": {},
   "outputs": [],
   "source": [
    "df['City_area'].replace(\"Thane-Kalyan-Dombivli\",\"Thane\",inplace=True)\n",
    "df['City_area'].replace(\"Balkum Pada - Majiwada\",\"Thane\",inplace=True)\n",
    "df['City_area'].replace(\"Bhiwendi\",\"Thane\",inplace=True)"
   ]
  },
  {
   "cell_type": "code",
   "execution_count": 766,
   "id": "985d50db",
   "metadata": {},
   "outputs": [],
   "source": [
    "df['City_area'].replace(\"Bhoiwada - Parel\",\"Parel\",inplace=True)\n",
    "df['City_area'].replace(\"Parmanand Wadi\",\"Parel\",inplace=True)\n",
    "df['City_area'].replace(\"Tilak Nagar - Parel\",\"Parel\",inplace=True)"
   ]
  },
  {
   "cell_type": "code",
   "execution_count": 767,
   "id": "81a2acb7",
   "metadata": {},
   "outputs": [],
   "source": [
    "df['City_area'].replace(\"Hiranandani Gardens\",\"Powai\",inplace=True)\n",
    "df['City_area'].replace(\"Central Area\",\"Powai\",inplace=True)\n",
    "df['City_area'].replace(\"Raheja Vihar\",\"Powai\",inplace=True)\n",
    "df['City_area'].replace(\"Chandivali\",\"Powai\",inplace=True)\n",
    "df['City_area'].replace(\"Rambaug\",\"Powai\",inplace=True)\n",
    "df['City_area'].replace(\"Powai lake\",\"Powai\",inplace=True)\n",
    "df['City_area'].replace(\"MHADA Colony - Chandivali\",\"Powai\",inplace=True)"
   ]
  },
  {
   "cell_type": "code",
   "execution_count": 768,
   "id": "259da9b5",
   "metadata": {},
   "outputs": [],
   "source": [
    "df['City_area'].replace(\"Byculla East\",\"Byculla\",inplace=True)\n",
    "df['City_area'].replace(\"Byculla West\",\"Byculla\",inplace=True)\n",
    "df['City_area'].replace(\"Agripada\",\"Byculla\",inplace=True)\n",
    "df['City_area'].replace(\"Mustafa Bazar\",\"Byculla\",inplace=True)"
   ]
  },
  {
   "cell_type": "code",
   "execution_count": 769,
   "id": "1726fb8b",
   "metadata": {},
   "outputs": [],
   "source": [
    "df['City_area'].replace(\"Charni Road\",\"Mumbai Central\",inplace=True)\n",
    "df['City_area'].replace(\"Grant Road\",\"Mumbai Central\",inplace=True)\n",
    "df['City_area'].replace(\"Napean Sea Road\",\"Mumbai Central\",inplace=True)\n",
    "df['City_area'].replace(\"Malabar Hill\",\"Mumbai Central\",inplace=True)\n",
    "df['City_area'].replace(\"Cuffe Parade\",\"Mumbai Central\",inplace=True)\n",
    "df['City_area'].replace(\"Tardeo\",\"Mumbai Central\",inplace=True)\n",
    "df['City_area'].replace(\"Mahalakshmi\",\"Mumbai Central\",inplace=True)\n",
    "df['City_area'].replace(\"Lal Baug\",\"Mumbai Central\",inplace=True)\n",
    "df['City_area'].replace(\"Lokhandwala Twp\",\"Mumbai Central\",inplace=True)\n",
    "df['City_area'].replace(\"Walkeshwar\",\"Mumbai Central\",inplace=True)\n",
    "df['City_area'].replace(\"Peddar Road\",\"Mumbai Central\",inplace=True)\n",
    "df['City_area'].replace(\"Marine Drive\",\"Mumbai Central\",inplace=True)\n",
    "df['City_area'].replace(\"Breach Candy\",\"Mumbai Central\",inplace=True)\n",
    "df['City_area'].replace(\"Marine Lines\",\"Mumbai Central\",inplace=True)\n",
    "df['City_area'].replace(\"Worli Sea Face\",\"Mumbai Central\",inplace=True)\n",
    "df['City_area'].replace(\"Worli\",\"Mumbai Central\",inplace=True)\n",
    "\n",
    "df['City_area'].replace(\"Khetwadi\",\"Mumbai Central\",inplace=True)\n",
    "df['City_area'].replace(\"Prabhadevi\",\"Mumbai Central\",inplace=True)\n",
    "df['City_area'].replace(\"Nagpada\",\"Mumbai Central\",inplace=True)\n",
    "df['City_area'].replace(\"Kemps Corner\",\"Mumbai Central\",inplace=True)\n",
    "df['City_area'].replace(\"Pydhonie\",\"Mumbai Central\",inplace=True)\n",
    "df['City_area'].replace(\"Juhu Tara Road\",\"Mumbai Central\",inplace=True)\n",
    "df['City_area'].replace(\"Colaba\",\"Mumbai Central\",inplace=True)\n",
    "df['City_area'].replace(\"Juhu Beach Area\",\"Mumbai Central\",inplace=True)\n",
    "df['City_area'].replace(\"Girgaon\",\"Mumbai Central\",inplace=True)\n",
    "df['City_area'].replace(\"Juhu\",\"Mumbai Central\",inplace=True)\n",
    "df['City_area'].replace(\"Colaba\",\"Mumbai Central\",inplace=True)\n",
    "df['City_area'].replace(\"Dongri\",\"Mumbai Central\",inplace=True)\n",
    "df['City_area'].replace(\"Hughes Road\",\"Mumbai Central\",inplace=True)\n",
    "df['City_area'].replace(\"Chira Bazaar\",\"Mumbai Central\",inplace=True)\n",
    "df['City_area'].replace(\"Chunabhatti\",\"Mumbai Central\",inplace=True)\n",
    "df['City_area'].replace(\"World Trade Centre\",\"Mumbai Central\",inplace=True)\n",
    "df['City_area'].replace(\"Mumbai\",\"Mumbai Central\",inplace=True)\n",
    "df['City_area'].replace(\"Lamington Rd\",\"Mumbai Central\",inplace=True)\n",
    "df['City_area'].replace(\"Chowpatty\",\"Mumbai Central\",inplace=True)\n",
    "df['City_area'].replace(\"Saki Vihar Road\",\"Mumbai Central\",inplace=True)\n",
    "df['City_area'].replace(\"Kalbadevi\",\"Mumbai Central\",inplace=True)\n",
    "df['City_area'].replace(\"Nariman Point\",\"Mumbai Central\",inplace=True)\n",
    "df['City_area'].replace(\"Thakurdwar\",\"Mumbai Central\",inplace=True)\n",
    "df['City_area'].replace(\"BR Ambedkar Chowk\",\"Mumbai Central\",inplace=True)\n",
    "df['City_area'].replace(\"Masjid Bandar\",\"Mumbai Central\",inplace=True)\n",
    "df['City_area'].replace(\"Cumballa Hill\",\"Mumbai Central\",inplace=True)\n",
    "df['City_area'].replace(\"Crawford Market\",\"Mumbai Central\",inplace=True)\n",
    "df['City_area'].replace(\"Mahalaxmi Race Course\",\"Mumbai Central\",inplace=True)\n",
    "df['City_area'].replace(\"Church Gate\",\"Mumbai Central\",inplace=True)\n",
    "df['City_area'].replace(\"Shantivan\",\"Mumbai Central\",inplace=True)\n",
    "df['City_area'].replace(\"Bhuleshwar\",\"Mumbai Central\",inplace=True)\n",
    "df['City_area'].replace(\"Sikka Nagar\",\"Mumbai Central\",inplace=True)\n",
    "df['City_area'].replace(\"Carter Road\",\"Mumbai Central\",inplace=True)\n",
    "df['City_area'].replace(\"Opera House\",\"Mumbai Central\",inplace=True)\n",
    "df['City_area'].replace(\"Mohd Ali Road\",\"Mumbai Central\",inplace=True)\n",
    "df['City_area'].replace(\"Mandvi\",\"Mumbai Central\",inplace=True)"
   ]
  },
  {
   "cell_type": "code",
   "execution_count": 770,
   "id": "6f6c7b26",
   "metadata": {},
   "outputs": [],
   "source": [
    "df['City_area'].replace(\"Virar East\",\"Virar\",inplace=True)\n",
    "df['City_area'].replace(\"Virar West\",\"Virar\",inplace=True)\n",
    "df['City_area'].replace(\"Bolinj\",\"Virar\",inplace=True)\n",
    "df['City_area'].replace(\"Virat Nagar\",\"Virar\",inplace=True)\n",
    "df['City_area'].replace(\"Y K Nagar\",\"Virar\",inplace=True)\n",
    "df['City_area'].replace(\"Agashi\",\"Virar\",inplace=True)"
   ]
  },
  {
   "cell_type": "code",
   "execution_count": 771,
   "id": "9021916a",
   "metadata": {},
   "outputs": [],
   "source": [
    "df['City_area'].replace(\"Vinay Nagar\",\"Mira Road\",inplace=True)\n",
    "df['City_area'].replace(\"Beverly Park\",\"Mira Road\",inplace=True)\n",
    "df['City_area'].replace(\"Ramdev Park\",\"Mira Road\",inplace=True)\n",
    "df['City_area'].replace(\"Poonam Gardens\",\"Mira Road\",inplace=True)\n",
    "df['City_area'].replace(\"Ghodbunder\",\"Mira Road\",inplace=True)\n",
    "df['City_area'].replace(\"Mira Bhayandar\",\"Mira Road\",inplace=True)\n",
    "df['City_area'].replace(\"Mira Road East\",\"Mira Road\",inplace=True)\n",
    "df['City_area'].replace(\"Hatkesh Udyog\",\"Mira Road\",inplace=True)\n",
    "df['City_area'].replace(\"Indralok\",\"Mira Road\",inplace=True)\n",
    "df['City_area'].replace(\"Kashimira\",\"Mira Road\",inplace=True)\n",
    "df['City_area'].replace(\"Shanti Nagar-Mira Road\",\"Mira Road\",inplace=True)\n",
    "df['City_area'].replace(\"Sheetal Nagar\",\"Mira Road\",inplace=True)\n",
    "df['City_area'].replace(\"Srishti Complex\",\"Mira Road\",inplace=True)\n",
    "df['City_area'].replace(\"Pleasant Park\",\"Mira Road\",inplace=True)\n",
    "df['City_area'].replace(\"Golden Nest\",\"Mira Road\",inplace=True)"
   ]
  },
  {
   "cell_type": "code",
   "execution_count": 772,
   "id": "ca996be5",
   "metadata": {},
   "outputs": [],
   "source": [
    "df['City_area'].replace(\"Dahisar East\",\"Dahisar\",inplace=True)\n",
    "df['City_area'].replace(\"Dahisar West\",\"Dahisar\",inplace=True)\n",
    "df['City_area'].replace(\"Kandarpada\",\"Dahisar\",inplace=True)\n",
    "df['City_area'].replace(\"Rawalpada\",\"Dahisar\",inplace=True)\n",
    "df['City_area'].replace(\"Ashok Van\",\"Dahisar\",inplace=True)\n",
    "df['City_area'].replace(\"Anand Nagar - Dahisar East\",\"Dahisar\",inplace=True)"
   ]
  },
  {
   "cell_type": "code",
   "execution_count": 773,
   "id": "8f27bd23",
   "metadata": {},
   "outputs": [],
   "source": [
    "df['City_area'].replace(\"Borivali East\",\"Borivali\",inplace=True)\n",
    "df['City_area'].replace(\"Borivali West\",\"Borivali\",inplace=True)\n",
    "df['City_area'].replace(\"Magathane\",\"Borivali\",inplace=True)\n",
    "df['City_area'].replace(\"Datta Pada\",\"Borivali\",inplace=True)\n",
    "df['City_area'].replace(\"Gorai 1\",\"Borivali\",inplace=True)\n",
    "df['City_area'].replace(\"Gorai 2\",\"Borivali\",inplace=True)\n",
    "df['City_area'].replace(\"Gorai\",\"Borivali\",inplace=True)\n",
    "df['City_area'].replace(\"IC Colony\",\"Borivali\",inplace=True)\n",
    "df['City_area'].replace(\"LIC Colony - Borivali West\",\"Borivali\",inplace=True)\n",
    "df['City_area'].replace(\"Babhai Naka - Borivali West\",\"Borivali\",inplace=True)\n",
    "df['City_area'].replace(\"Yogi Nagar\",\"Borivali\",inplace=True)\n",
    "df['City_area'].replace(\"Chikuwadi\",\"Borivali\",inplace=True)\n",
    "df['City_area'].replace(\"Shimpoli\",\"Borivali\",inplace=True)\n",
    "df['City_area'].replace(\"Vazira Naka\",\"Borivali\",inplace=True)\n",
    "df['City_area'].replace(\"Eksar\",\"Borivali\",inplace=True)\n",
    "df['City_area'].replace(\"Padma Nagar\",\"Borivali\",inplace=True)\n",
    "df['City_area'].replace(\"Haridas Nagar\",\"Borivali\",inplace=True)\n",
    "df['City_area'].replace(\"Sai Baba Nagar - Borivali West\",\"Borivali\",inplace=True)\n",
    "df['City_area'].replace(\"Siddhartha Nagar\",\"Borivali\",inplace=True)\n",
    "df['City_area'].replace(\"Daulat Nagar\",\"Borivali\",inplace=True)\n",
    "df['City_area'].replace(\"Rajendra Nagar\",\"Borivali\",inplace=True)\n",
    "df['City_area'].replace(\"Mandapeshwar\",\"Borivali\",inplace=True)\n",
    "df['City_area'].replace(\"Kulup Wadi\",\"Borivali\",inplace=True)\n",
    "df['City_area'].replace(\"Maharashtra Nagar - Borivali West\",\"Borivali\",inplace=True)\n",
    "df['City_area'].replace(\"Nansey Colony\",\"Borivali\",inplace=True)"
   ]
  },
  {
   "cell_type": "code",
   "execution_count": 774,
   "id": "7bde6fc2",
   "metadata": {},
   "outputs": [],
   "source": [
    "df['City_area'].replace(\"Kandivali East\",\"Kandivali\",inplace=True)\n",
    "df['City_area'].replace(\"Kandivali West\",\"Kandivali\",inplace=True)\n",
    "df['City_area'].replace(\"Mahavir Nagar\",\"Kandivali\",inplace=True)\n",
    "df['City_area'].replace(\"Samata Nagar - Thakur Village\",\"Kandivali\",inplace=True)\n",
    "df['City_area'].replace(\"Thakur Village\",\"Kandivali\",inplace=True)\n",
    "df['City_area'].replace(\"Thakur Complex\",\"Kandivali\",inplace=True)\n",
    "df['City_area'].replace(\"Ashok Nagar\",\"Kandivali\",inplace=True)\n",
    "df['City_area'].replace(\"Ashok Nagar - Akurli Nagar\",\"Kandivali\",inplace=True)\n",
    "df['City_area'].replace(\"Akurli Nagar\",\"Kandivali\",inplace=True)\n",
    "df['City_area'].replace(\"Charkop\",\"Kandivali\",inplace=True)\n",
    "df['City_area'].replace(\"Sector 8 Charkop\",\"Kandivali\",inplace=True)\n",
    "df['City_area'].replace(\"Sector 3 Charkop\",\"Kandivali\",inplace=True)\n",
    "df['City_area'].replace(\"Sector 6 Charkop\",\"Kandivali\",inplace=True)\n",
    "df['City_area'].replace(\"Sector 2 Charkop\",\"Kandivali\",inplace=True)\n",
    "df['City_area'].replace(\"Charkop Sector 9\",\"Kandivali\",inplace=True)\n",
    "df['City_area'].replace(\"Dahanukar Wadi\",\"Kandivali\",inplace=True)\n",
    "df['City_area'].replace(\"Alika Nagar\",\"Kandivali\",inplace=True)\n",
    "df['City_area'].replace(\"Sector 5 Charkop\",\"Kandivali\",inplace=True)\n",
    "df['City_area'].replace(\"Sector 7 Charkop\",\"Kandivali\",inplace=True)\n",
    "df['City_area'].replace(\"Patel Nagar\",\"Kandivali\",inplace=True)\n",
    "df['City_area'].replace(\"Sai Nagar\",\"Kandivali\",inplace=True)\n",
    "df['City_area'].replace(\"Charkop Gaon\",\"Kandivali\",inplace=True)\n",
    "df['City_area'].replace(\"Irani Wadi\",\"Kandivali\",inplace=True)\n",
    "df['City_area'].replace(\"Asha Nagar - Kandivali East\",\"Kandivali\",inplace=True)\n",
    "df['City_area'].replace(\"Mahatama Gandhi Road\",\"Kandivali\",inplace=True)"
   ]
  },
  {
   "cell_type": "code",
   "execution_count": 775,
   "id": "271dfd87",
   "metadata": {},
   "outputs": [],
   "source": [
    "df['City_area'].replace(\"Malad East\",\"Malad\",inplace=True)\n",
    "df['City_area'].replace(\"Malad West\",\"Malad\",inplace=True)\n",
    "df['City_area'].replace(\"Jankalyan Nagar\",\"Malad\",inplace=True)\n",
    "df['City_area'].replace(\"Madh\",\"Malad\",inplace=True)\n",
    "df['City_area'].replace(\"Orlem\",\"Malad\",inplace=True)\n",
    "df['City_area'].replace(\"Evershine Nagar\",\"Malad\",inplace=True)\n",
    "df['City_area'].replace(\"Malvani\",\"Malad\",inplace=True)\n",
    "df['City_area'].replace(\"Link Road\",\"Malad\",inplace=True)\n",
    "df['City_area'].replace(\"Kanchpada\",\"Malad\",inplace=True)\n",
    "df['City_area'].replace(\"Marve\",\"Malad\",inplace=True)\n",
    "df['City_area'].replace(\"Adarsh Nagar - Malad West\",\"Malad\",inplace=True)\n",
    "df['City_area'].replace(\"Upper Govind Nagar\",\"Malad\",inplace=True)\n",
    "df['City_area'].replace(\"Dindoshi - Malad East\",\"Malad\",inplace=True)\n",
    "df['City_area'].replace(\"Kurar Village\",\"Malad\",inplace=True)\n",
    "df['City_area'].replace(\"Liberty Garden\",\"Malad\",inplace=True)\n",
    "df['City_area'].replace(\"Mindspace\",\"Malad\",inplace=True)\n",
    "df['City_area'].replace(\"Pushpa Park\",\"Malad\",inplace=True)\n",
    "df['City_area'].replace(\"Sunder Nagar\",\"Malad\",inplace=True)\n",
    "df['City_area'].replace(\"Pathanwadi\",\"Malad\",inplace=True)\n",
    "df['City_area'].replace(\"Rathodi\",\"Malad\",inplace=True)"
   ]
  },
  {
   "cell_type": "code",
   "execution_count": 776,
   "id": "ccb25e8f",
   "metadata": {},
   "outputs": [],
   "source": [
    "df['City_area'].replace(\"Gokuldham East\",\"Goregaon\",inplace=True)\n",
    "df['City_area'].replace(\"Gokuldham West\",\"Goregaon\",inplace=True)\n",
    "df['City_area'].replace(\"Gokuldham\",\"Goregaon\",inplace=True)\n",
    "df['City_area'].replace(\"Film City Road\",\"Goregaon\",inplace=True)\n",
    "df['City_area'].replace(\"Royal Palms Estate\",\"Goregaon\",inplace=True)\n",
    "df['City_area'].replace(\"Aarey Milk Colony\",\"Goregaon\",inplace=True)\n",
    "df['City_area'].replace(\"Goregaon\",\"Goregaon\",inplace=True)\n",
    "df['City_area'].replace(\"Bangur Nagar\",\"Goregaon\",inplace=True)\n",
    "df['City_area'].replace(\"Azad Nagar - Goregaon East\",\"Goregaon\",inplace=True)\n",
    "df['City_area'].replace(\"Best Nagar - Goregaon West\",\"Goregaon\",inplace=True)\n",
    "df['City_area'].replace(\"Jawahar Nagar - Goregaon West\",\"Goregaon\",inplace=True)\n",
    "df['City_area'].replace(\"Mitha Nagar\",\"Goregaon\",inplace=True)\n",
    "df['City_area'].replace(\"Kanya Pada\",\"Goregaon\",inplace=True)\n",
    "df['City_area'].replace(\"Motilal Nagar 1\",\"Goregaon\",inplace=True)\n",
    "df['City_area'].replace(\"Motilal Nagar 2\",\"Goregaon\",inplace=True)\n",
    "df['City_area'].replace(\"Vishveshwar Nagar\",\"Goregaon\",inplace=True)\n",
    "df['City_area'].replace(\"Unnat Nagar\",\"Goregaon\",inplace=True)\n",
    "df['City_area'].replace(\"Laxmi Nagar - Goregaon East\",\"Goregaon\",inplace=True)\n",
    "df['City_area'].replace(\"Film City\",\"Goregaon\",inplace=True)"
   ]
  },
  {
   "cell_type": "code",
   "execution_count": 777,
   "id": "2c3dee0e",
   "metadata": {},
   "outputs": [],
   "source": [
    "df['City_area'].replace(\"Andheri East\",\"Andheri\",inplace=True)\n",
    "df['City_area'].replace(\"Andheri West\",\"Andheri\",inplace=True)\n",
    "df['City_area'].replace(\"Lokhandwala Complex\",\"Andheri\",inplace=True)\n",
    "df['City_area'].replace(\"Versova\",\"Andheri\",inplace=True)\n",
    "df['City_area'].replace(\"Oshiwara\",\"Andheri\",inplace=True)\n",
    "df['City_area'].replace(\"D.N. Nagar\",\"Andheri\",inplace=True)\n",
    "df['City_area'].replace(\"Marol\",\"Andheri\",inplace=True)\n",
    "df['City_area'].replace(\"Sakinaka Junction\",\"Andheri\",inplace=True)\n",
    "df['City_area'].replace(\"Sakinaka\",\"Andheri\",inplace=True)\n",
    "df['City_area'].replace(\"Sher E Punjab Society\",\"Andheri\",inplace=True)\n",
    "df['City_area'].replace(\"JVLR-Jogeshwari Vikhroli Link Road\",\"Andheri\",inplace=True)\n",
    "df['City_area'].replace(\"Chakala\",\"Andheri\",inplace=True)\n",
    "df['City_area'].replace(\"Veera Desai Road\",\"Andheri\",inplace=True)\n",
    "df['City_area'].replace(\"4 Bunglows\",\"Andheri\",inplace=True)\n",
    "df['City_area'].replace(\"Four Bungalows\",\"Andheri\",inplace=True)\n",
    "df['City_area'].replace(\"Juhu Versova Link Road\",\"Andheri\",inplace=True)\n",
    "df['City_area'].replace(\"Yari Road\",\"Andheri\",inplace=True)\n",
    "df['City_area'].replace(\"Seven Bungalows\",\"Andheri\",inplace=True)\n",
    "df['City_area'].replace(\"New Link Road\",\"Andheri\",inplace=True)\n",
    "df['City_area'].replace(\"Lallu Bhai Park\",\"Andheri\",inplace=True)\n",
    "df['City_area'].replace(\"Marol Maroshi Road\",\"Andheri\",inplace=True)\n",
    "df['City_area'].replace(\"Gilbert Hill\",\"Andheri\",inplace=True)\n",
    "df['City_area'].replace(\"Linking Road\",\"Andheri\",inplace=True)\n",
    "df['City_area'].replace(\"Azad Nagar - Andheri West\",\"Andheri\",inplace=True)\n",
    "df['City_area'].replace(\"Sahar Village\",\"Andheri\",inplace=True)\n",
    "df['City_area'].replace(\"Malpa Dongri\",\"Andheri\",inplace=True)\n",
    "df['City_area'].replace(\"Poonam Nagar\",\"Andheri\",inplace=True)\n",
    "df['City_area'].replace(\"SV Patel Nagar\",\"Andheri\",inplace=True)\n",
    "df['City_area'].replace(\"JB Nagar\",\"Andheri\",inplace=True)\n",
    "df['City_area'].replace(\"MIDC Industrial Estate\",\"Andheri\",inplace=True)\n",
    "df['City_area'].replace(\"Marol Naka\",\"Andheri\",inplace=True)\n",
    "df['City_area'].replace(\"Veera Desai Industrial Estate\",\"Andheri\",inplace=True)\n",
    "df['City_area'].replace(\"Andheri Kurla Road\",\"Andheri\",inplace=True)\n",
    "df['City_area'].replace(\"Chakala MIDC\",\"Andheri\",inplace=True)\n",
    "df['City_area'].replace(\"Safed Pul\",\"Andheri\",inplace=True)"
   ]
  },
  {
   "cell_type": "code",
   "execution_count": 778,
   "id": "d3ab4661",
   "metadata": {},
   "outputs": [],
   "source": [
    "df['City_area'].replace(\"Mulund East\",\"Mulund\",inplace=True)\n",
    "df['City_area'].replace(\"Mulund West\",\"Mulund\",inplace=True)\n",
    "df['City_area'].replace(\"Veena Nagar\",\"Mulund\",inplace=True)\n",
    "df['City_area'].replace(\"Mulund Colony - Mulund West\",\"Mulund\",inplace=True)\n",
    "df['City_area'].replace(\"Neelam Nagar\",\"Mulund\",inplace=True)\n",
    "df['City_area'].replace(\"Parshwanath Nagar\",\"Mulund\",inplace=True)\n",
    "df['City_area'].replace(\"Moti Nagar\",\"Mulund\",inplace=True)\n",
    "df['City_area'].replace(\"Gavan Pada\",\"Mulund\",inplace=True)\n",
    "df['City_area'].replace(\"Ashok Nagar - Mulund West\",\"Mulund\",inplace=True)\n",
    "df['City_area'].replace(\"Amar Nagar - Mulund West\",\"Mulund\",inplace=True)\n",
    "df['City_area'].replace(\"Nirmal Nagar - Mulund West\",\"Mulund\",inplace=True)\n",
    "df['City_area'].replace(\"Sane Guruji Nagar\",\"Mulund\",inplace=True)"
   ]
  },
  {
   "cell_type": "code",
   "execution_count": 779,
   "id": "0fe3e782",
   "metadata": {},
   "outputs": [],
   "source": [
    "df['City_area'].replace(\"Bhandup East\",\"Bhandup\",inplace=True)\n",
    "df['City_area'].replace(\"Bhandup West\",\"Bhandup\",inplace=True)\n",
    "df['City_area'].replace(\"LBS Marg\",\"Bhandup\",inplace=True)\n",
    "df['City_area'].replace(\"Ishwar Nagar\",\"Bhandup\",inplace=True)\n",
    "df['City_area'].replace(\"Dina Bama Estate\",\"Bhandup\",inplace=True)\n",
    "df['City_area'].replace(\"Bhandup Village\",\"Bhandup\",inplace=True)"
   ]
  },
  {
   "cell_type": "code",
   "execution_count": 780,
   "id": "755cdfe1",
   "metadata": {},
   "outputs": [],
   "source": [
    "df['City_area'].replace(\"Bandra East\",\"Bandra\",inplace=True)\n",
    "df['City_area'].replace(\"Bandra West\",\"Bandra\",inplace=True)\n",
    "df['City_area'].replace(\"Vidya Nagari\",\"Bandra\",inplace=True)\n",
    "df['City_area'].replace(\"Bandra Reclamation\",\"Bandra\",inplace=True)\n",
    "df['City_area'].replace(\"Bandra Kurla Complex\",\"Bandra\",inplace=True)\n",
    "df['City_area'].replace(\"Pali Hill\",\"Bandra\",inplace=True)\n",
    "df['City_area'].replace(\"Mount Mary\",\"Bandra\",inplace=True)\n",
    "df['City_area'].replace(\"Kala Nagar\",\"Bandra\",inplace=True)"
   ]
  },
  {
   "cell_type": "code",
   "execution_count": 781,
   "id": "0e2806ff",
   "metadata": {},
   "outputs": [],
   "source": [
    "df['City_area'].replace(\"Ghatkopar East\",\"Ghatkopar\",inplace=True)\n",
    "df['City_area'].replace(\"Ghatkopar West\",\"Ghatkopar\",inplace=True)\n",
    "df['City_area'].replace(\"Vidya Vihar\",\"Ghatkopar\",inplace=True)\n",
    "df['City_area'].replace(\"Damodar Park\",\"Ghatkopar\",inplace=True)\n",
    "df['City_area'].replace(\"Pant Nagar\",\"Ghatkopar\",inplace=True)\n",
    "df['City_area'].replace(\"Chirag Nagar\",\"Ghatkopar\",inplace=True)\n",
    "df['City_area'].replace(\"Nityanand Nagar - Ghatkopar West\",\"Ghatkopar\",inplace=True)\n",
    "df['City_area'].replace(\"Sainath Nagar\",\"Ghatkopar\",inplace=True)\n",
    "df['City_area'].replace(\"Gangawadi\",\"Ghatkopar\",inplace=True)\n",
    "df['City_area'].replace(\"Garodia Nagar\",\"Ghatkopar\",inplace=True)\n",
    "df['City_area'].replace(\"Barrister Nath Pai Nagar\",\"Ghatkopar\",inplace=True)"
   ]
  },
  {
   "cell_type": "code",
   "execution_count": 782,
   "id": "62c18035",
   "metadata": {},
   "outputs": [],
   "source": [
    "df['City_area'].replace(\"Santacruz East\",\"Santacruz\",inplace=True)\n",
    "df['City_area'].replace(\"Santacruz West\",\"Santacruz\",inplace=True)\n",
    "df['City_area'].replace(\"Sundar Nagar - Kalina\",\"Santacruz\",inplace=True)\n",
    "df['City_area'].replace(\"Kalina\",\"Santacruz\",inplace=True)\n",
    "df['City_area'].replace(\"Vakola\",\"Santacruz\",inplace=True)\n",
    "df['City_area'].replace(\"Sen Nagar\",\"Santacruz\",inplace=True)\n",
    "df['City_area'].replace(\"Willingdon\",\"Santacruz\",inplace=True)\n",
    "df['City_area'].replace(\"Golibar\",\"Santacruz\",inplace=True)\n",
    "df['City_area'].replace(\"Prabhat Colony\",\"Santacruz\",inplace=True)"
   ]
  },
  {
   "cell_type": "code",
   "execution_count": 783,
   "id": "8f030b1f",
   "metadata": {},
   "outputs": [],
   "source": [
    "df['City_area'].replace(\"Vile Parle East\",\"Vile Parle\",inplace=True)\n",
    "df['City_area'].replace(\"Vile Parle West\",\"Vile Parle\",inplace=True)\n",
    "df['City_area'].replace(\"JVPD Scheme\",\"Vile Parle\",inplace=True)\n",
    "df['City_area'].replace(\"Gulmohar Road\",\"Vile Parle\",inplace=True)\n",
    "df['City_area'].replace(\"Irla\",\"Vile Parle\",inplace=True)"
   ]
  },
  {
   "cell_type": "code",
   "execution_count": 784,
   "id": "077e9f34",
   "metadata": {},
   "outputs": [],
   "source": [
    "df['City_area'].replace(\"Nalasopara East\",\"Nalasopara\",inplace=True)\n",
    "df['City_area'].replace(\"Nalasopara West\",\"Nalasopara\",inplace=True)\n",
    "df['City_area'].replace(\"Nala Sopara\",\"Nalasopara\",inplace=True)"
   ]
  },
  {
   "cell_type": "code",
   "execution_count": 785,
   "id": "2a552307",
   "metadata": {},
   "outputs": [],
   "source": [
    "df['City_area'].replace(\"Sion East\",\"Sion\",inplace=True)\n",
    "df['City_area'].replace(\"Sion West\",\"Sion\",inplace=True)\n",
    "df['City_area'].replace(\"King Circle\",\"Sion\",inplace=True)\n",
    "df['City_area'].replace(\"VN Purav Marg\",\"Sion\",inplace=True)\n",
    "df['City_area'].replace(\"Sion Trombay Road\",\"Sion\",inplace=True)\n",
    "df['City_area'].replace(\"Pratiksha Nagar-Sion\",\"Sion\",inplace=True)"
   ]
  },
  {
   "cell_type": "code",
   "execution_count": 786,
   "id": "4e74af6d",
   "metadata": {},
   "outputs": [],
   "source": [
    "df['City_area'].replace(\"Kanjurmarg East\",\"Kanjurmarg\",inplace=True)\n",
    "df['City_area'].replace(\"Kanjurmarg West\",\"Kanjurmarg\",inplace=True)\n",
    "df['City_area'].replace(\"Crompton Greaves\",\"Kanjurmarg\",inplace=True)\n",
    "df['City_area'].replace(\"Kanjurmarg\",\"Kanjurmarg\",inplace=True)"
   ]
  },
  {
   "cell_type": "code",
   "execution_count": 787,
   "id": "aee18323",
   "metadata": {},
   "outputs": [],
   "source": [
    "df['City_area'].replace(\"Wadala East\",\"Wadala\",inplace=True)\n",
    "df['City_area'].replace(\"Wadala West\",\"Wadala\",inplace=True)\n",
    "df['City_area'].replace(\"Bhakti Park\",\"Wadala\",inplace=True)\n",
    "df['City_area'].replace(\"Antop Hill\",\"Wadala\",inplace=True)"
   ]
  },
  {
   "cell_type": "code",
   "execution_count": 788,
   "id": "ea20ca72",
   "metadata": {},
   "outputs": [],
   "source": [
    "df['City_area'].replace(\"Dadar East\",\"Dadar\",inplace=True)\n",
    "df['City_area'].replace(\"Dadar West\",\"Dadar\",inplace=True)\n",
    "df['City_area'].replace(\"Shivaji Park\",\"Dadar\",inplace=True)\n",
    "df['City_area'].replace(\"Hindu Colony\",\"Dadar\",inplace=True)"
   ]
  },
  {
   "cell_type": "code",
   "execution_count": 789,
   "id": "85e4b5b5",
   "metadata": {},
   "outputs": [],
   "source": [
    "df['City_area'].replace(\"Jogeshwari East\",\"Jogeshwari\",inplace=True)\n",
    "df['City_area'].replace(\"Jogeshwari West\",\"Jogeshwari\",inplace=True)\n",
    "df['City_area'].replace(\"Amboli\",\"Jogeshwari\",inplace=True)\n",
    "df['City_area'].replace(\"Amrut Nagar - Jogeshwari West\",\"Jogeshwari\",inplace=True)\n",
    "df['City_area'].replace(\"Behram Baug - Jogeshwari West\",\"Jogeshwari\",inplace=True)"
   ]
  },
  {
   "cell_type": "code",
   "execution_count": 790,
   "id": "3566fabc",
   "metadata": {},
   "outputs": [],
   "source": [
    "df['City_area'].replace(\"Chembur East\",\"Chembur\",inplace=True)\n",
    "df['City_area'].replace(\"Chembur West\",\"Chembur\",inplace=True)\n",
    "df['City_area'].replace(\"Shell Colony\",\"Chembur\",inplace=True)\n",
    "df['City_area'].replace(\"Chedda Nagar - Chembur\",\"Chembur\",inplace=True)\n",
    "df['City_area'].replace(\"Sindhi Society Chembur\",\"Chembur\",inplace=True)\n",
    "df['City_area'].replace(\"Chembur Colony\",\"Chembur\",inplace=True)\n",
    "df['City_area'].replace(\"Deonar\",\"Chembur\",inplace=True)\n",
    "df['City_area'].replace(\"Swastik Park\",\"Chembur\",inplace=True)\n",
    "df['City_area'].replace(\"Collector Colony\",\"Chembur\",inplace=True)\n",
    "df['City_area'].replace(\"R C Marg\",\"Chembur\",inplace=True)\n",
    "df['City_area'].replace(\"Central Avenue Road\",\"Chembur\",inplace=True)\n",
    "df['City_area'].replace(\"Pestom Sagar\",\"Chembur\",inplace=True)\n",
    "df['City_area'].replace(\"Deonar Farm Road\",\"Chembur\",inplace=True)\n",
    "df['City_area'].replace(\"Trombay\",\"Chembur\",inplace=True)\n",
    "df['City_area'].replace(\"Mysore Colony\",\"Chembur\",inplace=True)\n",
    "df['City_area'].replace(\"Ghatla\",\"Chembur\",inplace=True)\n",
    "df['City_area'].replace(\"Sahakar Nagar\",\"Chembur\",inplace=True)\n",
    "df['City_area'].replace(\"Union Park\",\"Chembur\",inplace=True)\n",
    "df['City_area'].replace(\"Wadala East\",\"Chembur\",inplace=True)\n",
    "df['City_area'].replace(\"Wadala West\",\"Chembur\",inplace=True)\n",
    "df['City_area'].replace(\"Wadala\",\"Chembur\",inplace=True)"
   ]
  },
  {
   "cell_type": "code",
   "execution_count": 791,
   "id": "94d3285a",
   "metadata": {},
   "outputs": [],
   "source": [
    "#city_area_count.value_counts()"
   ]
  },
  {
   "cell_type": "code",
   "execution_count": 792,
   "id": "20356e32",
   "metadata": {},
   "outputs": [],
   "source": [
    "#df['City_area'].value_counts().loc[lambda x: x>2]"
   ]
  },
  {
   "cell_type": "code",
   "execution_count": 793,
   "id": "677f8674",
   "metadata": {},
   "outputs": [
    {
     "data": {
      "text/plain": [
       "(5589, 14)"
      ]
     },
     "execution_count": 793,
     "metadata": {},
     "output_type": "execute_result"
    }
   ],
   "source": [
    "df.shape"
   ]
  },
  {
   "cell_type": "code",
   "execution_count": 794,
   "id": "def24df6",
   "metadata": {},
   "outputs": [],
   "source": [
    "city_area = df['City_area'].value_counts()"
   ]
  },
  {
   "cell_type": "code",
   "execution_count": 795,
   "id": "4153cc0d",
   "metadata": {},
   "outputs": [],
   "source": [
    "city_area_count = city_area[city_area < 2]"
   ]
  },
  {
   "cell_type": "code",
   "execution_count": 796,
   "id": "45da7897",
   "metadata": {},
   "outputs": [],
   "source": [
    "df['City_area'] = df['City_area'].apply(lambda x: 'Other' if x in city_area_count else x)"
   ]
  },
  {
   "cell_type": "code",
   "execution_count": 797,
   "id": "820edc93",
   "metadata": {},
   "outputs": [],
   "source": [
    "df.drop(df[df['City_area']=='Other'].index,axis=0,inplace=True)"
   ]
  },
  {
   "cell_type": "code",
   "execution_count": 798,
   "id": "5681be21",
   "metadata": {},
   "outputs": [
    {
     "data": {
      "text/plain": [
       "44"
      ]
     },
     "execution_count": 798,
     "metadata": {},
     "output_type": "execute_result"
    }
   ],
   "source": [
    "df['City_area'].nunique()"
   ]
  },
  {
   "cell_type": "code",
   "execution_count": 799,
   "id": "7e595069",
   "metadata": {},
   "outputs": [
    {
     "data": {
      "text/plain": [
       "Andheri                       662\n",
       "Kandivali                     410\n",
       "Mira Road                     389\n",
       "Mumbai Central                335\n",
       "Chembur                       303\n",
       "Malad                         300\n",
       "Borivali                      288\n",
       "Goregaon                      287\n",
       "Mulund                        246\n",
       "Virar                         196\n",
       "Ghatkopar                     195\n",
       "Santacruz                     150\n",
       "Powai                         147\n",
       "Vasai                         127\n",
       "Vile Parle                    111\n",
       "Bhandup                       110\n",
       "Bandra                        105\n",
       "Dahisar                        87\n",
       "Sion                           68\n",
       "Thane                          66\n",
       "Bhayandar                      60\n",
       "Parel                          56\n",
       "Kanjurmarg                     56\n",
       "Dadar                          54\n",
       "Kurla                          52\n",
       "Khar                           51\n",
       "Vikhroli                       46\n",
       "Nalasopara                     46\n",
       "Kalyan                         43\n",
       "Jogeshwari                     43\n",
       "Mahim                          36\n",
       "Ulhasnagar                     34\n",
       "Byculla                        33\n",
       "Matunga                        32\n",
       "Tilak Nagar - Harbour Line     28\n",
       "Ambernath                      19\n",
       "Mazgaon                        17\n",
       "Lower Parel                    17\n",
       "Sewri                          15\n",
       "Naigaon                        15\n",
       "Nahur                          12\n",
       "Navi Mumbai                    12\n",
       "Chinchpokli                     6\n",
       "Govandi                         4\n",
       "Name: City_area, dtype: int64"
      ]
     },
     "execution_count": 799,
     "metadata": {},
     "output_type": "execute_result"
    }
   ],
   "source": [
    "df['City_area'].value_counts()"
   ]
  },
  {
   "cell_type": "markdown",
   "id": "a8d6622e",
   "metadata": {},
   "source": [
    "# Outlier Detection"
   ]
  },
  {
   "cell_type": "code",
   "execution_count": 800,
   "id": "476dd16d",
   "metadata": {},
   "outputs": [
    {
     "name": "stdout",
     "output_type": "stream",
     "text": [
      "Highest allowed 104070326.81442231\n",
      "Lowest allowed -51995057.67678028\n"
     ]
    }
   ],
   "source": [
    "print(\"Highest allowed\",df['price'].mean() + 3*df['price'].std())\n",
    "print(\"Lowest allowed\", df['price'].mean() - 3*df['price'].std())"
   ]
  },
  {
   "cell_type": "code",
   "execution_count": 801,
   "id": "0388e78f",
   "metadata": {},
   "outputs": [
    {
     "name": "stdout",
     "output_type": "stream",
     "text": [
      "Highest allowed 2917.7284400541207\n",
      "Lowest allowed -594.0610904545679\n"
     ]
    }
   ],
   "source": [
    "print(\"Highest allowed\",df['area'].mean() + 3*df['area'].std())\n",
    "print(\"Lowest allowed\", df['area'].mean() - 3*df['area'].std())"
   ]
  },
  {
   "cell_type": "code",
   "execution_count": 802,
   "id": "2d9dd071",
   "metadata": {},
   "outputs": [
    {
     "name": "stdout",
     "output_type": "stream",
     "text": [
      "Highest allowed 4.609290211117534\n",
      "Lowest allowed 0.2571653672024512\n"
     ]
    }
   ],
   "source": [
    "print(\"Highest allowed\",df['Bedrooms'].mean() + 3*df['Bedrooms'].std())\n",
    "print(\"Lowest allowed\", df['Bedrooms'].mean() - 3*df['Bedrooms'].std())"
   ]
  },
  {
   "cell_type": "code",
   "execution_count": 803,
   "id": "6058ac51",
   "metadata": {},
   "outputs": [
    {
     "name": "stdout",
     "output_type": "stream",
     "text": [
      "Highest allowed 4.571945780650344\n",
      "Lowest allowed 0.23192831135934133\n"
     ]
    }
   ],
   "source": [
    "print(\"Highest allowed\",df['Bathrooms'].mean() + 3*df['Bathrooms'].std())\n",
    "print(\"Lowest allowed\", df['Bathrooms'].mean() - 3*df['Bathrooms'].std())"
   ]
  },
  {
   "cell_type": "code",
   "execution_count": 804,
   "id": "910d5e5c",
   "metadata": {},
   "outputs": [
    {
     "name": "stdout",
     "output_type": "stream",
     "text": [
      "Highest allowed 4.631516751952717\n",
      "Lowest allowed -3.0144558467562192\n"
     ]
    }
   ],
   "source": [
    "print(\"Highest allowed\",df['Balcony'].mean() + 3*df['Balcony'].std())\n",
    "print(\"Lowest allowed\", df['Balcony'].mean() - 3*df['Balcony'].std())"
   ]
  },
  {
   "cell_type": "code",
   "execution_count": 805,
   "id": "ac695f1e",
   "metadata": {},
   "outputs": [
    {
     "name": "stdout",
     "output_type": "stream",
     "text": [
      "Highest allowed 3.4691081964560997\n",
      "Lowest allowed 0.581180497900391\n"
     ]
    }
   ],
   "source": [
    "print(\"Highest allowed\",df['Lift'].mean() + 3*df['Lift'].std())\n",
    "print(\"Lowest allowed\", df['Lift'].mean() - 3*df['Lift'].std())"
   ]
  },
  {
   "cell_type": "code",
   "execution_count": 806,
   "id": "2601a8e2",
   "metadata": {},
   "outputs": [
    {
     "name": "stdout",
     "output_type": "stream",
     "text": [
      "Highest allowed 2.462511016651722\n",
      "Lowest allowed -1.6366589026640146\n"
     ]
    }
   ],
   "source": [
    "print(\"Highest allowed\",df['parking'].mean() + 3*df['parking'].std())\n",
    "print(\"Lowest allowed\", df['parking'].mean() - 3*df['parking'].std())"
   ]
  },
  {
   "cell_type": "code",
   "execution_count": 807,
   "id": "c44963cb",
   "metadata": {},
   "outputs": [
    {
     "name": "stdout",
     "output_type": "stream",
     "text": [
      "Highest allowed 59738.20508359601\n",
      "Lowest allowed -17034.38070220876\n"
     ]
    }
   ],
   "source": [
    "print(\"Highest allowed\",df['Price_sqft'].mean() + 3*df['Price_sqft'].std())\n",
    "print(\"Lowest allowed\", df['Price_sqft'].mean() - 3*df['Price_sqft'].std())"
   ]
  },
  {
   "cell_type": "code",
   "execution_count": 808,
   "id": "176c84f4",
   "metadata": {},
   "outputs": [],
   "source": [
    "df = df[(df['price'] < 104061756.86) & (df['price'] > -51993732.55) & (df['area'] < 2917) & (df['area'] > -599) & (df['Bedrooms'] < 4.6) & (df['Bedrooms'] > 0.24) & (df['Bathrooms'] < 4.57) & (df['Bathrooms'] > 0.23) & (df['Balcony'] < 4.63) & (df['Balcony'] > -3.01) & (df['Lift'] < 3.47) & (df['Lift'] > 0.58) & (df['parking'] < 2.46) & (df['parking'] > -1.63) & (df['Price_sqft'] < 59738.20) & (df['Price_sqft'] > -17034.38)]"
   ]
  },
  {
   "cell_type": "code",
   "execution_count": 809,
   "id": "7fba81ab",
   "metadata": {},
   "outputs": [
    {
     "data": {
      "text/html": [
       "<div>\n",
       "<style scoped>\n",
       "    .dataframe tbody tr th:only-of-type {\n",
       "        vertical-align: middle;\n",
       "    }\n",
       "\n",
       "    .dataframe tbody tr th {\n",
       "        vertical-align: top;\n",
       "    }\n",
       "\n",
       "    .dataframe thead th {\n",
       "        text-align: right;\n",
       "    }\n",
       "</style>\n",
       "<table border=\"1\" class=\"dataframe\">\n",
       "  <thead>\n",
       "    <tr style=\"text-align: right;\">\n",
       "      <th></th>\n",
       "      <th>price</th>\n",
       "      <th>area</th>\n",
       "      <th>Bedrooms</th>\n",
       "      <th>Bathrooms</th>\n",
       "      <th>Balcony</th>\n",
       "      <th>parking</th>\n",
       "      <th>Lift</th>\n",
       "      <th>Price_sqft</th>\n",
       "    </tr>\n",
       "  </thead>\n",
       "  <tbody>\n",
       "    <tr>\n",
       "      <th>count</th>\n",
       "      <td>4.807000e+03</td>\n",
       "      <td>4807.000000</td>\n",
       "      <td>4807.000000</td>\n",
       "      <td>4807.000000</td>\n",
       "      <td>4807.000000</td>\n",
       "      <td>4807.000000</td>\n",
       "      <td>4807.000000</td>\n",
       "      <td>4807.000000</td>\n",
       "    </tr>\n",
       "    <tr>\n",
       "      <th>mean</th>\n",
       "      <td>2.150585e+07</td>\n",
       "      <td>1061.106719</td>\n",
       "      <td>2.324527</td>\n",
       "      <td>2.294362</td>\n",
       "      <td>0.741627</td>\n",
       "      <td>0.342833</td>\n",
       "      <td>1.981069</td>\n",
       "      <td>19949.130538</td>\n",
       "    </tr>\n",
       "    <tr>\n",
       "      <th>std</th>\n",
       "      <td>1.445357e+07</td>\n",
       "      <td>357.548756</td>\n",
       "      <td>0.533079</td>\n",
       "      <td>0.538659</td>\n",
       "      <td>1.183981</td>\n",
       "      <td>0.584338</td>\n",
       "      <td>0.298866</td>\n",
       "      <td>10096.701326</td>\n",
       "    </tr>\n",
       "    <tr>\n",
       "      <th>min</th>\n",
       "      <td>1.500000e+06</td>\n",
       "      <td>503.000000</td>\n",
       "      <td>2.000000</td>\n",
       "      <td>2.000000</td>\n",
       "      <td>0.000000</td>\n",
       "      <td>0.000000</td>\n",
       "      <td>1.000000</td>\n",
       "      <td>1500.000000</td>\n",
       "    </tr>\n",
       "    <tr>\n",
       "      <th>25%</th>\n",
       "      <td>1.250000e+07</td>\n",
       "      <td>825.000000</td>\n",
       "      <td>2.000000</td>\n",
       "      <td>2.000000</td>\n",
       "      <td>0.000000</td>\n",
       "      <td>0.000000</td>\n",
       "      <td>2.000000</td>\n",
       "      <td>13067.479244</td>\n",
       "    </tr>\n",
       "    <tr>\n",
       "      <th>50%</th>\n",
       "      <td>1.800000e+07</td>\n",
       "      <td>994.000000</td>\n",
       "      <td>2.000000</td>\n",
       "      <td>2.000000</td>\n",
       "      <td>0.000000</td>\n",
       "      <td>0.000000</td>\n",
       "      <td>2.000000</td>\n",
       "      <td>18867.924528</td>\n",
       "    </tr>\n",
       "    <tr>\n",
       "      <th>75%</th>\n",
       "      <td>2.700000e+07</td>\n",
       "      <td>1200.000000</td>\n",
       "      <td>3.000000</td>\n",
       "      <td>3.000000</td>\n",
       "      <td>1.000000</td>\n",
       "      <td>1.000000</td>\n",
       "      <td>2.000000</td>\n",
       "      <td>25061.546313</td>\n",
       "    </tr>\n",
       "    <tr>\n",
       "      <th>max</th>\n",
       "      <td>1.000000e+08</td>\n",
       "      <td>2888.000000</td>\n",
       "      <td>4.000000</td>\n",
       "      <td>4.000000</td>\n",
       "      <td>4.000000</td>\n",
       "      <td>2.000000</td>\n",
       "      <td>3.000000</td>\n",
       "      <td>59171.597633</td>\n",
       "    </tr>\n",
       "  </tbody>\n",
       "</table>\n",
       "</div>"
      ],
      "text/plain": [
       "              price         area     Bedrooms    Bathrooms      Balcony  \\\n",
       "count  4.807000e+03  4807.000000  4807.000000  4807.000000  4807.000000   \n",
       "mean   2.150585e+07  1061.106719     2.324527     2.294362     0.741627   \n",
       "std    1.445357e+07   357.548756     0.533079     0.538659     1.183981   \n",
       "min    1.500000e+06   503.000000     2.000000     2.000000     0.000000   \n",
       "25%    1.250000e+07   825.000000     2.000000     2.000000     0.000000   \n",
       "50%    1.800000e+07   994.000000     2.000000     2.000000     0.000000   \n",
       "75%    2.700000e+07  1200.000000     3.000000     3.000000     1.000000   \n",
       "max    1.000000e+08  2888.000000     4.000000     4.000000     4.000000   \n",
       "\n",
       "           parking         Lift    Price_sqft  \n",
       "count  4807.000000  4807.000000   4807.000000  \n",
       "mean      0.342833     1.981069  19949.130538  \n",
       "std       0.584338     0.298866  10096.701326  \n",
       "min       0.000000     1.000000   1500.000000  \n",
       "25%       0.000000     2.000000  13067.479244  \n",
       "50%       0.000000     2.000000  18867.924528  \n",
       "75%       1.000000     2.000000  25061.546313  \n",
       "max       2.000000     3.000000  59171.597633  "
      ]
     },
     "execution_count": 809,
     "metadata": {},
     "output_type": "execute_result"
    }
   ],
   "source": [
    "df.describe()"
   ]
  },
  {
   "cell_type": "code",
   "execution_count": 810,
   "id": "e0995d8a",
   "metadata": {},
   "outputs": [
    {
     "name": "stderr",
     "output_type": "stream",
     "text": [
      "C:\\Users\\Aniket\\AppData\\Local\\Temp\\ipykernel_260\\1134722465.py:1: FutureWarning: The default value of numeric_only in DataFrame.corr is deprecated. In a future version, it will default to False. Select only valid columns or specify the value of numeric_only to silence this warning.\n",
      "  df.corr()\n"
     ]
    },
    {
     "data": {
      "text/html": [
       "<div>\n",
       "<style scoped>\n",
       "    .dataframe tbody tr th:only-of-type {\n",
       "        vertical-align: middle;\n",
       "    }\n",
       "\n",
       "    .dataframe tbody tr th {\n",
       "        vertical-align: top;\n",
       "    }\n",
       "\n",
       "    .dataframe thead th {\n",
       "        text-align: right;\n",
       "    }\n",
       "</style>\n",
       "<table border=\"1\" class=\"dataframe\">\n",
       "  <thead>\n",
       "    <tr style=\"text-align: right;\">\n",
       "      <th></th>\n",
       "      <th>price</th>\n",
       "      <th>area</th>\n",
       "      <th>Bedrooms</th>\n",
       "      <th>Bathrooms</th>\n",
       "      <th>Balcony</th>\n",
       "      <th>parking</th>\n",
       "      <th>Lift</th>\n",
       "      <th>Price_sqft</th>\n",
       "    </tr>\n",
       "  </thead>\n",
       "  <tbody>\n",
       "    <tr>\n",
       "      <th>price</th>\n",
       "      <td>1.000000</td>\n",
       "      <td>0.625016</td>\n",
       "      <td>0.532219</td>\n",
       "      <td>0.550331</td>\n",
       "      <td>-0.004940</td>\n",
       "      <td>0.165498</td>\n",
       "      <td>0.054053</td>\n",
       "      <td>0.793628</td>\n",
       "    </tr>\n",
       "    <tr>\n",
       "      <th>area</th>\n",
       "      <td>0.625016</td>\n",
       "      <td>1.000000</td>\n",
       "      <td>0.675529</td>\n",
       "      <td>0.644768</td>\n",
       "      <td>0.165496</td>\n",
       "      <td>0.201122</td>\n",
       "      <td>0.097124</td>\n",
       "      <td>0.093562</td>\n",
       "    </tr>\n",
       "    <tr>\n",
       "      <th>Bedrooms</th>\n",
       "      <td>0.532219</td>\n",
       "      <td>0.675529</td>\n",
       "      <td>1.000000</td>\n",
       "      <td>0.780267</td>\n",
       "      <td>0.023757</td>\n",
       "      <td>0.145739</td>\n",
       "      <td>0.050323</td>\n",
       "      <td>0.206873</td>\n",
       "    </tr>\n",
       "    <tr>\n",
       "      <th>Bathrooms</th>\n",
       "      <td>0.550331</td>\n",
       "      <td>0.644768</td>\n",
       "      <td>0.780267</td>\n",
       "      <td>1.000000</td>\n",
       "      <td>0.038367</td>\n",
       "      <td>0.145360</td>\n",
       "      <td>0.056594</td>\n",
       "      <td>0.236326</td>\n",
       "    </tr>\n",
       "    <tr>\n",
       "      <th>Balcony</th>\n",
       "      <td>-0.004940</td>\n",
       "      <td>0.165496</td>\n",
       "      <td>0.023757</td>\n",
       "      <td>0.038367</td>\n",
       "      <td>1.000000</td>\n",
       "      <td>0.057684</td>\n",
       "      <td>0.056149</td>\n",
       "      <td>-0.142027</td>\n",
       "    </tr>\n",
       "    <tr>\n",
       "      <th>parking</th>\n",
       "      <td>0.165498</td>\n",
       "      <td>0.201122</td>\n",
       "      <td>0.145739</td>\n",
       "      <td>0.145360</td>\n",
       "      <td>0.057684</td>\n",
       "      <td>1.000000</td>\n",
       "      <td>0.020490</td>\n",
       "      <td>0.075814</td>\n",
       "    </tr>\n",
       "    <tr>\n",
       "      <th>Lift</th>\n",
       "      <td>0.054053</td>\n",
       "      <td>0.097124</td>\n",
       "      <td>0.050323</td>\n",
       "      <td>0.056594</td>\n",
       "      <td>0.056149</td>\n",
       "      <td>0.020490</td>\n",
       "      <td>1.000000</td>\n",
       "      <td>0.008870</td>\n",
       "    </tr>\n",
       "    <tr>\n",
       "      <th>Price_sqft</th>\n",
       "      <td>0.793628</td>\n",
       "      <td>0.093562</td>\n",
       "      <td>0.206873</td>\n",
       "      <td>0.236326</td>\n",
       "      <td>-0.142027</td>\n",
       "      <td>0.075814</td>\n",
       "      <td>0.008870</td>\n",
       "      <td>1.000000</td>\n",
       "    </tr>\n",
       "  </tbody>\n",
       "</table>\n",
       "</div>"
      ],
      "text/plain": [
       "               price      area  Bedrooms  Bathrooms   Balcony   parking  \\\n",
       "price       1.000000  0.625016  0.532219   0.550331 -0.004940  0.165498   \n",
       "area        0.625016  1.000000  0.675529   0.644768  0.165496  0.201122   \n",
       "Bedrooms    0.532219  0.675529  1.000000   0.780267  0.023757  0.145739   \n",
       "Bathrooms   0.550331  0.644768  0.780267   1.000000  0.038367  0.145360   \n",
       "Balcony    -0.004940  0.165496  0.023757   0.038367  1.000000  0.057684   \n",
       "parking     0.165498  0.201122  0.145739   0.145360  0.057684  1.000000   \n",
       "Lift        0.054053  0.097124  0.050323   0.056594  0.056149  0.020490   \n",
       "Price_sqft  0.793628  0.093562  0.206873   0.236326 -0.142027  0.075814   \n",
       "\n",
       "                Lift  Price_sqft  \n",
       "price       0.054053    0.793628  \n",
       "area        0.097124    0.093562  \n",
       "Bedrooms    0.050323    0.206873  \n",
       "Bathrooms   0.056594    0.236326  \n",
       "Balcony     0.056149   -0.142027  \n",
       "parking     0.020490    0.075814  \n",
       "Lift        1.000000    0.008870  \n",
       "Price_sqft  0.008870    1.000000  "
      ]
     },
     "execution_count": 810,
     "metadata": {},
     "output_type": "execute_result"
    }
   ],
   "source": [
    "df.corr()"
   ]
  },
  {
   "cell_type": "markdown",
   "id": "57289129",
   "metadata": {},
   "source": [
    "# Feature Selection"
   ]
  },
  {
   "cell_type": "code",
   "execution_count": 811,
   "id": "0d2556e5",
   "metadata": {},
   "outputs": [
    {
     "data": {
      "text/plain": [
       "Index(['price', 'Address', 'area', 'Bedrooms', 'Bathrooms', 'Balcony',\n",
       "       'Status', 'neworold', 'parking', 'Furnished_status', 'Lift',\n",
       "       'type_of_building', 'Price_sqft', 'City_area'],\n",
       "      dtype='object')"
      ]
     },
     "execution_count": 811,
     "metadata": {},
     "output_type": "execute_result"
    }
   ],
   "source": [
    "df.columns"
   ]
  },
  {
   "cell_type": "code",
   "execution_count": 812,
   "id": "a8a25a05",
   "metadata": {},
   "outputs": [
    {
     "data": {
      "text/plain": [
       "Resale          4292\n",
       "New Property     515\n",
       "Name: neworold, dtype: int64"
      ]
     },
     "execution_count": 812,
     "metadata": {},
     "output_type": "execute_result"
    }
   ],
   "source": [
    "df['neworold'].value_counts()"
   ]
  },
  {
   "cell_type": "code",
   "execution_count": 814,
   "id": "b3ea73d6",
   "metadata": {},
   "outputs": [],
   "source": [
    "df.drop(columns=['Address','Status','type_of_building'],inplace=True)"
   ]
  },
  {
   "cell_type": "code",
   "execution_count": 815,
   "id": "1bc9a2ba",
   "metadata": {},
   "outputs": [
    {
     "data": {
      "text/html": [
       "<div>\n",
       "<style scoped>\n",
       "    .dataframe tbody tr th:only-of-type {\n",
       "        vertical-align: middle;\n",
       "    }\n",
       "\n",
       "    .dataframe tbody tr th {\n",
       "        vertical-align: top;\n",
       "    }\n",
       "\n",
       "    .dataframe thead th {\n",
       "        text-align: right;\n",
       "    }\n",
       "</style>\n",
       "<table border=\"1\" class=\"dataframe\">\n",
       "  <thead>\n",
       "    <tr style=\"text-align: right;\">\n",
       "      <th></th>\n",
       "      <th>neworold</th>\n",
       "      <th>Furnished_status</th>\n",
       "      <th>City_area</th>\n",
       "    </tr>\n",
       "  </thead>\n",
       "  <tbody>\n",
       "    <tr>\n",
       "      <th>count</th>\n",
       "      <td>4807</td>\n",
       "      <td>4807</td>\n",
       "      <td>4807</td>\n",
       "    </tr>\n",
       "    <tr>\n",
       "      <th>unique</th>\n",
       "      <td>2</td>\n",
       "      <td>3</td>\n",
       "      <td>44</td>\n",
       "    </tr>\n",
       "    <tr>\n",
       "      <th>top</th>\n",
       "      <td>Resale</td>\n",
       "      <td>Unfurnished</td>\n",
       "      <td>Andheri</td>\n",
       "    </tr>\n",
       "    <tr>\n",
       "      <th>freq</th>\n",
       "      <td>4292</td>\n",
       "      <td>3143</td>\n",
       "      <td>608</td>\n",
       "    </tr>\n",
       "  </tbody>\n",
       "</table>\n",
       "</div>"
      ],
      "text/plain": [
       "       neworold Furnished_status City_area\n",
       "count      4807             4807      4807\n",
       "unique        2                3        44\n",
       "top      Resale      Unfurnished   Andheri\n",
       "freq       4292             3143       608"
      ]
     },
     "execution_count": 815,
     "metadata": {},
     "output_type": "execute_result"
    }
   ],
   "source": [
    "df.describe(include='O')"
   ]
  },
  {
   "cell_type": "code",
   "execution_count": 816,
   "id": "12353ec1",
   "metadata": {},
   "outputs": [
    {
     "data": {
      "text/plain": [
       "(4807, 11)"
      ]
     },
     "execution_count": 816,
     "metadata": {},
     "output_type": "execute_result"
    }
   ],
   "source": [
    "df.shape"
   ]
  },
  {
   "cell_type": "code",
   "execution_count": 822,
   "id": "83abafd7",
   "metadata": {},
   "outputs": [],
   "source": [
    "df1 = df.copy()"
   ]
  },
  {
   "cell_type": "markdown",
   "id": "253f8ca2",
   "metadata": {},
   "source": [
    "# Model Building"
   ]
  },
  {
   "cell_type": "code",
   "execution_count": 2805,
   "id": "cf6ccb39",
   "metadata": {},
   "outputs": [],
   "source": [
    "#df.to_csv('mumbai_clean.csv')"
   ]
  },
  {
   "cell_type": "code",
   "execution_count": 823,
   "id": "2715bcdb",
   "metadata": {},
   "outputs": [
    {
     "data": {
      "text/html": [
       "<div>\n",
       "<style scoped>\n",
       "    .dataframe tbody tr th:only-of-type {\n",
       "        vertical-align: middle;\n",
       "    }\n",
       "\n",
       "    .dataframe tbody tr th {\n",
       "        vertical-align: top;\n",
       "    }\n",
       "\n",
       "    .dataframe thead th {\n",
       "        text-align: right;\n",
       "    }\n",
       "</style>\n",
       "<table border=\"1\" class=\"dataframe\">\n",
       "  <thead>\n",
       "    <tr style=\"text-align: right;\">\n",
       "      <th></th>\n",
       "      <th>price</th>\n",
       "      <th>area</th>\n",
       "      <th>Bedrooms</th>\n",
       "      <th>Bathrooms</th>\n",
       "      <th>Balcony</th>\n",
       "      <th>neworold</th>\n",
       "      <th>parking</th>\n",
       "      <th>Furnished_status</th>\n",
       "      <th>Lift</th>\n",
       "      <th>Price_sqft</th>\n",
       "      <th>City_area</th>\n",
       "    </tr>\n",
       "  </thead>\n",
       "  <tbody>\n",
       "    <tr>\n",
       "      <th>0</th>\n",
       "      <td>22400000.0</td>\n",
       "      <td>629.0</td>\n",
       "      <td>2.0</td>\n",
       "      <td>2.0</td>\n",
       "      <td>0.0</td>\n",
       "      <td>New Property</td>\n",
       "      <td>0.0</td>\n",
       "      <td>Unfurnished</td>\n",
       "      <td>2.0</td>\n",
       "      <td>35612.082671</td>\n",
       "      <td>Chembur</td>\n",
       "    </tr>\n",
       "    <tr>\n",
       "      <th>1</th>\n",
       "      <td>35000000.0</td>\n",
       "      <td>974.0</td>\n",
       "      <td>3.0</td>\n",
       "      <td>2.0</td>\n",
       "      <td>0.0</td>\n",
       "      <td>New Property</td>\n",
       "      <td>0.0</td>\n",
       "      <td>Unfurnished</td>\n",
       "      <td>2.0</td>\n",
       "      <td>35934.291581</td>\n",
       "      <td>Chembur</td>\n",
       "    </tr>\n",
       "    <tr>\n",
       "      <th>2</th>\n",
       "      <td>31700000.0</td>\n",
       "      <td>968.0</td>\n",
       "      <td>3.0</td>\n",
       "      <td>3.0</td>\n",
       "      <td>0.0</td>\n",
       "      <td>New Property</td>\n",
       "      <td>1.0</td>\n",
       "      <td>Unfurnished</td>\n",
       "      <td>2.0</td>\n",
       "      <td>32747.933884</td>\n",
       "      <td>Ghatkopar</td>\n",
       "    </tr>\n",
       "    <tr>\n",
       "      <th>3</th>\n",
       "      <td>18700000.0</td>\n",
       "      <td>629.0</td>\n",
       "      <td>2.0</td>\n",
       "      <td>2.0</td>\n",
       "      <td>2.0</td>\n",
       "      <td>New Property</td>\n",
       "      <td>1.0</td>\n",
       "      <td>Unfurnished</td>\n",
       "      <td>3.0</td>\n",
       "      <td>29729.729730</td>\n",
       "      <td>Goregaon</td>\n",
       "    </tr>\n",
       "    <tr>\n",
       "      <th>4</th>\n",
       "      <td>13500000.0</td>\n",
       "      <td>1090.0</td>\n",
       "      <td>2.0</td>\n",
       "      <td>2.0</td>\n",
       "      <td>0.0</td>\n",
       "      <td>New Property</td>\n",
       "      <td>1.0</td>\n",
       "      <td>Unfurnished</td>\n",
       "      <td>2.0</td>\n",
       "      <td>12385.321101</td>\n",
       "      <td>Malad</td>\n",
       "    </tr>\n",
       "  </tbody>\n",
       "</table>\n",
       "</div>"
      ],
      "text/plain": [
       "        price    area  Bedrooms  Bathrooms  Balcony      neworold  parking  \\\n",
       "0  22400000.0   629.0       2.0        2.0      0.0  New Property      0.0   \n",
       "1  35000000.0   974.0       3.0        2.0      0.0  New Property      0.0   \n",
       "2  31700000.0   968.0       3.0        3.0      0.0  New Property      1.0   \n",
       "3  18700000.0   629.0       2.0        2.0      2.0  New Property      1.0   \n",
       "4  13500000.0  1090.0       2.0        2.0      0.0  New Property      1.0   \n",
       "\n",
       "  Furnished_status  Lift    Price_sqft  City_area  \n",
       "0      Unfurnished   2.0  35612.082671    Chembur  \n",
       "1      Unfurnished   2.0  35934.291581    Chembur  \n",
       "2      Unfurnished   2.0  32747.933884  Ghatkopar  \n",
       "3      Unfurnished   3.0  29729.729730   Goregaon  \n",
       "4      Unfurnished   2.0  12385.321101      Malad  "
      ]
     },
     "execution_count": 823,
     "metadata": {},
     "output_type": "execute_result"
    }
   ],
   "source": [
    "df.head()"
   ]
  },
  {
   "cell_type": "code",
   "execution_count": 824,
   "id": "6faa7d70",
   "metadata": {},
   "outputs": [
    {
     "data": {
      "text/plain": [
       "(4807, 11)"
      ]
     },
     "execution_count": 824,
     "metadata": {},
     "output_type": "execute_result"
    }
   ],
   "source": [
    "df.shape"
   ]
  },
  {
   "cell_type": "code",
   "execution_count": 825,
   "id": "0850bb76",
   "metadata": {},
   "outputs": [],
   "source": [
    "from sklearn.model_selection import train_test_split\n",
    "from sklearn.preprocessing import LabelEncoder, OneHotEncoder\n",
    "from sklearn.linear_model import LinearRegression, Ridge, Lasso\n",
    "from sklearn.compose import make_column_transformer, ColumnTransformer\n",
    "from sklearn.pipeline import make_pipeline\n",
    "from sklearn.metrics import r2_score\n",
    "from sklearn.preprocessing import StandardScaler"
   ]
  },
  {
   "cell_type": "code",
   "execution_count": 687,
   "id": "8707d09b",
   "metadata": {},
   "outputs": [],
   "source": [
    "#l1 = LabelEncoder()\n",
    "#l2 = LabelEncoder()\n",
    "#l3 = LabelEncoder()\n",
    "#l4 = LabelEncoder()\n",
    "df['neworold'] = l1.fit_transform(df['neworold'])\n",
    "df['Furnished_status'] = l2.fit_transform(df['Furnished_status'])\n",
    "df['City_area'] = l3.fit_transform(df['City_area'])\n",
    "#df['type_of_building'] = l4.fit_transform(df['type_of_building'])"
   ]
  },
  {
   "cell_type": "code",
   "execution_count": 2665,
   "id": "f4e0aa52",
   "metadata": {},
   "outputs": [
    {
     "data": {
      "text/plain": [
       "['Flat', 'Individual House']"
      ]
     },
     "execution_count": 2665,
     "metadata": {},
     "output_type": "execute_result"
    }
   ],
   "source": [
    "['New Property', 'Resale']\n",
    "\n",
    "['Furnished', 'Semi-Furnished', 'Unfurnished']\n",
    "\n",
    "['Ambernath', 'Andheri', 'Bandra', 'Bhandup', 'Bhayandar',\n",
    "       'Borivali', 'Byculla', 'Chembur', 'Chinchpokli', 'Dadar',\n",
    "       'Dahisar', 'Ghatkopar', 'Goregaon', 'Govandi', 'Jogeshwari',\n",
    "       'Kalyan', 'Kandivali', 'Kanjurmarg', 'Khar', 'Kurla',\n",
    "       'Lower Parel', 'Mahim', 'Malad', 'Matunga', 'Mazgaon', 'Mira Road',\n",
    "       'Mulund', 'Mumbai Central', 'Nahur', 'Naigaon', 'Nalasopara',\n",
    "       'Navi Mumbai', 'Parel', 'Powai', 'Santacruz', 'Sewri', 'Sion',\n",
    "       'Thane', 'Tilak Nagar - Harbour Line', 'Ulhasnagar', 'Vasai',\n",
    "       'Vikhroli', 'Vile Parle', 'Virar']\n",
    "\n",
    "['Flat', 'Individual House']"
   ]
  },
  {
   "cell_type": "code",
   "execution_count": 889,
   "id": "e2dacd18",
   "metadata": {},
   "outputs": [
    {
     "name": "stdout",
     "output_type": "stream",
     "text": [
      "<class 'pandas.core.frame.DataFrame'>\n",
      "Int64Index: 4807 entries, 0 to 6254\n",
      "Data columns (total 11 columns):\n",
      " #   Column            Non-Null Count  Dtype  \n",
      "---  ------            --------------  -----  \n",
      " 0   price             4807 non-null   float64\n",
      " 1   area              4807 non-null   float64\n",
      " 2   Bedrooms          4807 non-null   float64\n",
      " 3   Bathrooms         4807 non-null   float64\n",
      " 4   Balcony           4807 non-null   float64\n",
      " 5   neworold          4807 non-null   object \n",
      " 6   parking           4807 non-null   float64\n",
      " 7   Furnished_status  4807 non-null   object \n",
      " 8   Lift              4807 non-null   float64\n",
      " 9   Price_sqft        4807 non-null   float64\n",
      " 10  City_area         4807 non-null   object \n",
      "dtypes: float64(8), object(3)\n",
      "memory usage: 450.7+ KB\n"
     ]
    }
   ],
   "source": [
    "df.info()"
   ]
  },
  {
   "cell_type": "code",
   "execution_count": 900,
   "id": "f966244a",
   "metadata": {},
   "outputs": [],
   "source": [
    "X = df.drop(columns=['price'])\n",
    "y = df['price']"
   ]
  },
  {
   "cell_type": "code",
   "execution_count": 901,
   "id": "bc9d94df",
   "metadata": {},
   "outputs": [],
   "source": [
    "from sklearn.model_selection import train_test_split\n",
    "X_train, X_test, y_train, y_test = train_test_split(X,y,test_size=0.2, random_state=42)"
   ]
  },
  {
   "cell_type": "code",
   "execution_count": 902,
   "id": "edea0be8",
   "metadata": {},
   "outputs": [],
   "source": [
    "trf = ColumnTransformer([\n",
    "    ('ohe',OneHotEncoder(drop='first',handle_unknown='ignore'),[4,6,9])\n",
    "],remainder='passthrough')"
   ]
  },
  {
   "cell_type": "code",
   "execution_count": 903,
   "id": "dfbc3a4d",
   "metadata": {},
   "outputs": [],
   "source": [
    "sc = StandardScaler(with_mean=False)"
   ]
  },
  {
   "cell_type": "code",
   "execution_count": 904,
   "id": "2b44b4d5",
   "metadata": {},
   "outputs": [],
   "source": [
    "lr = LinearRegression()\n",
    "\n",
    "rid = Ridge(alpha=5, solver='auto')\n",
    "\n",
    "las = Lasso(alpha=2, selection='random',tol=0.008)"
   ]
  },
  {
   "cell_type": "code",
   "execution_count": 905,
   "id": "e7b22b14",
   "metadata": {},
   "outputs": [],
   "source": [
    "pipe = make_pipeline(trf,sc,lr)\n",
    "\n",
    "#pipe = make_pipeline(trf,sc,rid)\n",
    "\n",
    "#pipe = make_pipeline(trf,sc,las)"
   ]
  },
  {
   "cell_type": "code",
   "execution_count": 906,
   "id": "962289af",
   "metadata": {},
   "outputs": [
    {
     "data": {
      "text/plain": [
       "Pipeline(steps=[('columntransformer',\n",
       "                 ColumnTransformer(remainder='passthrough',\n",
       "                                   transformers=[('ohe',\n",
       "                                                  OneHotEncoder(drop='first',\n",
       "                                                                handle_unknown='ignore'),\n",
       "                                                  [4, 6, 9])])),\n",
       "                ('standardscaler', StandardScaler(with_mean=False)),\n",
       "                ('linearregression', LinearRegression())])"
      ]
     },
     "execution_count": 906,
     "metadata": {},
     "output_type": "execute_result"
    }
   ],
   "source": [
    "pipe.fit(X_train,y_train)"
   ]
  },
  {
   "cell_type": "code",
   "execution_count": 907,
   "id": "02925f66",
   "metadata": {},
   "outputs": [],
   "source": [
    "y_pred = pipe1.predict(X_test)"
   ]
  },
  {
   "cell_type": "code",
   "execution_count": 908,
   "id": "250426c2",
   "metadata": {},
   "outputs": [
    {
     "name": "stdout",
     "output_type": "stream",
     "text": [
      "R2 Score:  0.95038\n",
      "Mean Absolute Error:  2024937.1561105277\n",
      "Mean Squared Error:  11622804377564.104\n"
     ]
    }
   ],
   "source": [
    "from sklearn.metrics import mean_absolute_error,mean_squared_error,r2_score\n",
    "\n",
    "r2_1 = r2_score(y_test,y_pred)\n",
    "MAE_1 = mean_absolute_error(y_test,y_pred)\n",
    "MSE_1 = mean_squared_error(y_test,y_pred)\n",
    "print(\"R2 Score: \",r2.round(5))\n",
    "print(\"Mean Absolute Error: \",MAE)\n",
    "print(\"Mean Squared Error: \",MSE)"
   ]
  },
  {
   "cell_type": "code",
   "execution_count": 909,
   "id": "1799fe9c",
   "metadata": {},
   "outputs": [
    {
     "name": "stderr",
     "output_type": "stream",
     "text": [
      "C:\\Users\\Aniket\\AppData\\Local\\Temp\\ipykernel_260\\3209491514.py:4: FutureWarning: The default value of numeric_only in DataFrame.corr is deprecated. In a future version, it will default to False. Select only valid columns or specify the value of numeric_only to silence this warning.\n",
      "  sns.heatmap(df.corr(),annot=True)\n"
     ]
    },
    {
     "data": {
      "text/plain": [
       "<AxesSubplot: >"
      ]
     },
     "execution_count": 909,
     "metadata": {},
     "output_type": "execute_result"
    },
    {
     "data": {
      "image/png": "[encoded data removed]",
      "text/plain": [
       "<Figure size 360x360 with 2 Axes>"
      ]
     },
     "metadata": {
      "needs_background": "light"
     },
     "output_type": "display_data"
    }
   ],
   "source": [
    "import matplotlib.pyplot as plt\n",
    "plt.figure(figsize=(5,5))\n",
    "\n",
    "sns.heatmap(df.corr(),annot=True)"
   ]
  },
  {
   "cell_type": "markdown",
   "id": "af864821",
   "metadata": {},
   "source": [
    "# Cross Validation"
   ]
  },
  {
   "cell_type": "code",
   "execution_count": 910,
   "id": "2b0452cf",
   "metadata": {},
   "outputs": [
    {
     "data": {
      "text/plain": [
       "0.9337074057736874"
      ]
     },
     "execution_count": 910,
     "metadata": {},
     "output_type": "execute_result"
    }
   ],
   "source": [
    "from sklearn.model_selection import cross_val_score\n",
    "cross_val_score(pipe,X_train, y_train, cv=10).mean()"
   ]
  },
  {
   "cell_type": "markdown",
   "id": "a2430a5f",
   "metadata": {},
   "source": [
    "# Test the Model"
   ]
  },
  {
   "cell_type": "code",
   "execution_count": 912,
   "id": "5379241b",
   "metadata": {},
   "outputs": [
    {
     "data": {
      "text/html": [
       "<div>\n",
       "<style scoped>\n",
       "    .dataframe tbody tr th:only-of-type {\n",
       "        vertical-align: middle;\n",
       "    }\n",
       "\n",
       "    .dataframe tbody tr th {\n",
       "        vertical-align: top;\n",
       "    }\n",
       "\n",
       "    .dataframe thead th {\n",
       "        text-align: right;\n",
       "    }\n",
       "</style>\n",
       "<table border=\"1\" class=\"dataframe\">\n",
       "  <thead>\n",
       "    <tr style=\"text-align: right;\">\n",
       "      <th></th>\n",
       "      <th>area</th>\n",
       "      <th>Bedrooms</th>\n",
       "      <th>Bathrooms</th>\n",
       "      <th>Balcony</th>\n",
       "      <th>neworold</th>\n",
       "      <th>parking</th>\n",
       "      <th>Furnished_status</th>\n",
       "      <th>Lift</th>\n",
       "      <th>Price_sqft</th>\n",
       "      <th>City_area</th>\n",
       "    </tr>\n",
       "  </thead>\n",
       "  <tbody>\n",
       "    <tr>\n",
       "      <th>5735</th>\n",
       "      <td>1000.0</td>\n",
       "      <td>2.0</td>\n",
       "      <td>2.0</td>\n",
       "      <td>0.0</td>\n",
       "      <td>Resale</td>\n",
       "      <td>1.0</td>\n",
       "      <td>Semi-Furnished</td>\n",
       "      <td>2.0</td>\n",
       "      <td>20500.000000</td>\n",
       "      <td>Andheri</td>\n",
       "    </tr>\n",
       "    <tr>\n",
       "      <th>754</th>\n",
       "      <td>1115.0</td>\n",
       "      <td>2.0</td>\n",
       "      <td>2.0</td>\n",
       "      <td>1.0</td>\n",
       "      <td>Resale</td>\n",
       "      <td>1.0</td>\n",
       "      <td>Unfurnished</td>\n",
       "      <td>2.0</td>\n",
       "      <td>29147.982063</td>\n",
       "      <td>Parel</td>\n",
       "    </tr>\n",
       "    <tr>\n",
       "      <th>4080</th>\n",
       "      <td>1662.0</td>\n",
       "      <td>3.0</td>\n",
       "      <td>3.0</td>\n",
       "      <td>1.0</td>\n",
       "      <td>Resale</td>\n",
       "      <td>1.0</td>\n",
       "      <td>Unfurnished</td>\n",
       "      <td>2.0</td>\n",
       "      <td>10529.482551</td>\n",
       "      <td>Goregaon</td>\n",
       "    </tr>\n",
       "    <tr>\n",
       "      <th>4909</th>\n",
       "      <td>1200.0</td>\n",
       "      <td>3.0</td>\n",
       "      <td>3.0</td>\n",
       "      <td>0.0</td>\n",
       "      <td>Resale</td>\n",
       "      <td>0.0</td>\n",
       "      <td>Unfurnished</td>\n",
       "      <td>2.0</td>\n",
       "      <td>41666.666667</td>\n",
       "      <td>Bandra</td>\n",
       "    </tr>\n",
       "    <tr>\n",
       "      <th>1254</th>\n",
       "      <td>2226.0</td>\n",
       "      <td>3.0</td>\n",
       "      <td>4.0</td>\n",
       "      <td>3.0</td>\n",
       "      <td>Resale</td>\n",
       "      <td>0.0</td>\n",
       "      <td>Semi-Furnished</td>\n",
       "      <td>2.0</td>\n",
       "      <td>17070.979335</td>\n",
       "      <td>Malad</td>\n",
       "    </tr>\n",
       "  </tbody>\n",
       "</table>\n",
       "</div>"
      ],
      "text/plain": [
       "        area  Bedrooms  Bathrooms  Balcony neworold  parking Furnished_status  \\\n",
       "5735  1000.0       2.0        2.0      0.0   Resale      1.0   Semi-Furnished   \n",
       "754   1115.0       2.0        2.0      1.0   Resale      1.0      Unfurnished   \n",
       "4080  1662.0       3.0        3.0      1.0   Resale      1.0      Unfurnished   \n",
       "4909  1200.0       3.0        3.0      0.0   Resale      0.0      Unfurnished   \n",
       "1254  2226.0       3.0        4.0      3.0   Resale      0.0   Semi-Furnished   \n",
       "\n",
       "      Lift    Price_sqft City_area  \n",
       "5735   2.0  20500.000000   Andheri  \n",
       "754    2.0  29147.982063     Parel  \n",
       "4080   2.0  10529.482551  Goregaon  \n",
       "4909   2.0  41666.666667    Bandra  \n",
       "1254   2.0  17070.979335     Malad  "
      ]
     },
     "execution_count": 912,
     "metadata": {},
     "output_type": "execute_result"
    }
   ],
   "source": [
    "X_train.tail(5)"
   ]
  },
  {
   "cell_type": "code",
   "execution_count": 913,
   "id": "fdeecc5e",
   "metadata": {},
   "outputs": [
    {
     "data": {
      "text/plain": [
       "5735    20500000.0\n",
       "754     32500000.0\n",
       "4080    17500000.0\n",
       "4909    50000000.0\n",
       "1254    38000000.0\n",
       "Name: price, dtype: float64"
      ]
     },
     "execution_count": 913,
     "metadata": {},
     "output_type": "execute_result"
    }
   ],
   "source": [
    "y_train.tail(5)"
   ]
  },
  {
   "cell_type": "code",
   "execution_count": 914,
   "id": "16155c1c",
   "metadata": {},
   "outputs": [],
   "source": [
    "test_inputs = np.array([1000, 2.0, 2.0, 0.0, \"Resale\", 1.0, \"Semi-Furnished\", 2.0, 20500, \"Andheri\"],dtype='object').reshape(1,10)"
   ]
  },
  {
   "cell_type": "code",
   "execution_count": 917,
   "id": "f12ff56a",
   "metadata": {},
   "outputs": [
    {
     "data": {
      "text/plain": [
       "array([[1000, 2.0, 2.0, 0.0, 'Resale', 1.0, 'Semi-Furnished', 2.0, 20500,\n",
       "        'Andheri']], dtype=object)"
      ]
     },
     "execution_count": 917,
     "metadata": {},
     "output_type": "execute_result"
    }
   ],
   "source": [
    "test_inputs"
   ]
  },
  {
   "cell_type": "code",
   "execution_count": 919,
   "id": "4d43e244",
   "metadata": {},
   "outputs": [
    {
     "name": "stderr",
     "output_type": "stream",
     "text": [
      "c:\\users\\aniket\\appdata\\local\\programs\\python\\python38\\lib\\site-packages\\sklearn\\base.py:450: UserWarning: X does not have valid feature names, but OneHotEncoder was fitted with feature names\n",
      "  warnings.warn(\n"
     ]
    },
    {
     "data": {
      "text/plain": [
       "array([20122979.44428373])"
      ]
     },
     "execution_count": 919,
     "metadata": {},
     "output_type": "execute_result"
    }
   ],
   "source": [
    "pipe.predict(test_inputs)"
   ]
  },
  {
   "cell_type": "markdown",
   "id": "ebc5bdbb",
   "metadata": {},
   "source": [
    "# Load The Model"
   ]
  },
  {
   "cell_type": "code",
   "execution_count": 920,
   "id": "f8d1f872",
   "metadata": {},
   "outputs": [],
   "source": [
    "import pickle\n",
    "\n",
    "pickle.dump(pipe,open('pipe3.pkl','wb'))"
   ]
  },
  {
   "cell_type": "code",
   "execution_count": 2821,
   "id": "c9b50223",
   "metadata": {},
   "outputs": [],
   "source": [
    "pipe = pickle.load(open('pipe.pkl','rb'))"
   ]
  },
  {
   "cell_type": "code",
   "execution_count": 699,
   "id": "f42af926",
   "metadata": {},
   "outputs": [
    {
     "data": {
      "text/html": [
       "<div>\n",
       "<style scoped>\n",
       "    .dataframe tbody tr th:only-of-type {\n",
       "        vertical-align: middle;\n",
       "    }\n",
       "\n",
       "    .dataframe tbody tr th {\n",
       "        vertical-align: top;\n",
       "    }\n",
       "\n",
       "    .dataframe thead th {\n",
       "        text-align: right;\n",
       "    }\n",
       "</style>\n",
       "<table border=\"1\" class=\"dataframe\">\n",
       "  <thead>\n",
       "    <tr style=\"text-align: right;\">\n",
       "      <th></th>\n",
       "      <th>area</th>\n",
       "      <th>Bedrooms</th>\n",
       "      <th>Bathrooms</th>\n",
       "      <th>Balcony</th>\n",
       "      <th>neworold</th>\n",
       "      <th>parking</th>\n",
       "      <th>Furnished_status</th>\n",
       "      <th>Lift</th>\n",
       "      <th>Price_sqft</th>\n",
       "      <th>City_area</th>\n",
       "    </tr>\n",
       "  </thead>\n",
       "  <tbody>\n",
       "    <tr>\n",
       "      <th>649</th>\n",
       "      <td>1058.0</td>\n",
       "      <td>2.0</td>\n",
       "      <td>2.0</td>\n",
       "      <td>0.0</td>\n",
       "      <td>1</td>\n",
       "      <td>2.0</td>\n",
       "      <td>1</td>\n",
       "      <td>2.0</td>\n",
       "      <td>11909.262760</td>\n",
       "      <td>3</td>\n",
       "    </tr>\n",
       "    <tr>\n",
       "      <th>5886</th>\n",
       "      <td>1200.0</td>\n",
       "      <td>3.0</td>\n",
       "      <td>3.0</td>\n",
       "      <td>1.0</td>\n",
       "      <td>1</td>\n",
       "      <td>1.0</td>\n",
       "      <td>1</td>\n",
       "      <td>2.0</td>\n",
       "      <td>17500.000000</td>\n",
       "      <td>33</td>\n",
       "    </tr>\n",
       "    <tr>\n",
       "      <th>4628</th>\n",
       "      <td>1625.0</td>\n",
       "      <td>3.0</td>\n",
       "      <td>3.0</td>\n",
       "      <td>0.0</td>\n",
       "      <td>1</td>\n",
       "      <td>0.0</td>\n",
       "      <td>2</td>\n",
       "      <td>2.0</td>\n",
       "      <td>20923.076923</td>\n",
       "      <td>22</td>\n",
       "    </tr>\n",
       "    <tr>\n",
       "      <th>3223</th>\n",
       "      <td>550.0</td>\n",
       "      <td>2.0</td>\n",
       "      <td>2.0</td>\n",
       "      <td>0.0</td>\n",
       "      <td>1</td>\n",
       "      <td>0.0</td>\n",
       "      <td>1</td>\n",
       "      <td>2.0</td>\n",
       "      <td>32727.272727</td>\n",
       "      <td>36</td>\n",
       "    </tr>\n",
       "    <tr>\n",
       "      <th>5942</th>\n",
       "      <td>1300.0</td>\n",
       "      <td>3.0</td>\n",
       "      <td>3.0</td>\n",
       "      <td>0.0</td>\n",
       "      <td>1</td>\n",
       "      <td>0.0</td>\n",
       "      <td>1</td>\n",
       "      <td>2.0</td>\n",
       "      <td>13846.153846</td>\n",
       "      <td>1</td>\n",
       "    </tr>\n",
       "  </tbody>\n",
       "</table>\n",
       "</div>"
      ],
      "text/plain": [
       "        area  Bedrooms  Bathrooms  Balcony  neworold  parking  \\\n",
       "649   1058.0       2.0        2.0      0.0         1      2.0   \n",
       "5886  1200.0       3.0        3.0      1.0         1      1.0   \n",
       "4628  1625.0       3.0        3.0      0.0         1      0.0   \n",
       "3223   550.0       2.0        2.0      0.0         1      0.0   \n",
       "5942  1300.0       3.0        3.0      0.0         1      0.0   \n",
       "\n",
       "      Furnished_status  Lift    Price_sqft  City_area  \n",
       "649                  1   2.0  11909.262760          3  \n",
       "5886                 1   2.0  17500.000000         33  \n",
       "4628                 2   2.0  20923.076923         22  \n",
       "3223                 1   2.0  32727.272727         36  \n",
       "5942                 1   2.0  13846.153846          1  "
      ]
     },
     "execution_count": 699,
     "metadata": {},
     "output_type": "execute_result"
    }
   ],
   "source": [
    "X_train.head()"
   ]
  },
  {
   "cell_type": "code",
   "execution_count": 700,
   "id": "25894994",
   "metadata": {},
   "outputs": [
    {
     "data": {
      "text/plain": [
       "649     12600000.0\n",
       "5886    21000000.0\n",
       "4628    34000000.0\n",
       "3223    18000000.0\n",
       "5942    18000000.0\n",
       "Name: price, dtype: float64"
      ]
     },
     "execution_count": 700,
     "metadata": {},
     "output_type": "execute_result"
    }
   ],
   "source": [
    "y_train.head()"
   ]
  },
  {
   "cell_type": "code",
   "execution_count": 704,
   "id": "474551d6",
   "metadata": {},
   "outputs": [],
   "source": [
    "test_inputs2 = np.array([1058, 2.0, 2.0, 0.0, 1, 2.0, 1, 2.0, 11909, 3],dtype='object').reshape(1,10)"
   ]
  },
  {
   "cell_type": "code",
   "execution_count": 705,
   "id": "0083dc64",
   "metadata": {},
   "outputs": [
    {
     "data": {
      "text/plain": [
       "array([[1058, 2.0, 2.0, 0.0, 1, 2.0, 1, 2.0, 11909, 3]], dtype=object)"
      ]
     },
     "execution_count": 705,
     "metadata": {},
     "output_type": "execute_result"
    }
   ],
   "source": [
    "test_inputs2"
   ]
  },
  {
   "cell_type": "code",
   "execution_count": 706,
   "id": "47ff03b3",
   "metadata": {},
   "outputs": [
    {
     "name": "stderr",
     "output_type": "stream",
     "text": [
      "c:\\users\\aniket\\appdata\\local\\programs\\python\\python38\\lib\\site-packages\\sklearn\\base.py:450: UserWarning: X does not have valid feature names, but OneHotEncoder was fitted with feature names\n",
      "  warnings.warn(\n"
     ]
    },
    {
     "data": {
      "text/plain": [
       "array([11822246.05305821])"
      ]
     },
     "execution_count": 706,
     "metadata": {},
     "output_type": "execute_result"
    }
   ],
   "source": [
    "pipe.predict(test_inputs2)"
   ]
  },
  {
   "cell_type": "code",
   "execution_count": 2686,
   "id": "62354675",
   "metadata": {},
   "outputs": [
    {
     "data": {
      "text/html": [
       "<div>\n",
       "<style scoped>\n",
       "    .dataframe tbody tr th:only-of-type {\n",
       "        vertical-align: middle;\n",
       "    }\n",
       "\n",
       "    .dataframe tbody tr th {\n",
       "        vertical-align: top;\n",
       "    }\n",
       "\n",
       "    .dataframe thead th {\n",
       "        text-align: right;\n",
       "    }\n",
       "</style>\n",
       "<table border=\"1\" class=\"dataframe\">\n",
       "  <thead>\n",
       "    <tr style=\"text-align: right;\">\n",
       "      <th></th>\n",
       "      <th>price</th>\n",
       "      <th>area</th>\n",
       "      <th>Bedrooms</th>\n",
       "      <th>Bathrooms</th>\n",
       "      <th>Balcony</th>\n",
       "      <th>Lift</th>\n",
       "      <th>parking</th>\n",
       "      <th>neworold</th>\n",
       "      <th>Furnished_status</th>\n",
       "      <th>type_of_building</th>\n",
       "      <th>Price_sqft</th>\n",
       "      <th>City_area</th>\n",
       "    </tr>\n",
       "  </thead>\n",
       "  <tbody>\n",
       "    <tr>\n",
       "      <th>0</th>\n",
       "      <td>22400000.0</td>\n",
       "      <td>629.0</td>\n",
       "      <td>2.0</td>\n",
       "      <td>2.0</td>\n",
       "      <td>1.0</td>\n",
       "      <td>2.0</td>\n",
       "      <td>1.0</td>\n",
       "      <td>0</td>\n",
       "      <td>2</td>\n",
       "      <td>0</td>\n",
       "      <td>35612.082671</td>\n",
       "      <td>7</td>\n",
       "    </tr>\n",
       "    <tr>\n",
       "      <th>1</th>\n",
       "      <td>35000000.0</td>\n",
       "      <td>974.0</td>\n",
       "      <td>3.0</td>\n",
       "      <td>2.0</td>\n",
       "      <td>1.0</td>\n",
       "      <td>2.0</td>\n",
       "      <td>1.0</td>\n",
       "      <td>0</td>\n",
       "      <td>2</td>\n",
       "      <td>0</td>\n",
       "      <td>35934.291581</td>\n",
       "      <td>7</td>\n",
       "    </tr>\n",
       "    <tr>\n",
       "      <th>2</th>\n",
       "      <td>31700000.0</td>\n",
       "      <td>968.0</td>\n",
       "      <td>3.0</td>\n",
       "      <td>3.0</td>\n",
       "      <td>1.0</td>\n",
       "      <td>2.0</td>\n",
       "      <td>1.0</td>\n",
       "      <td>0</td>\n",
       "      <td>2</td>\n",
       "      <td>0</td>\n",
       "      <td>32747.933884</td>\n",
       "      <td>11</td>\n",
       "    </tr>\n",
       "    <tr>\n",
       "      <th>3</th>\n",
       "      <td>18700000.0</td>\n",
       "      <td>629.0</td>\n",
       "      <td>2.0</td>\n",
       "      <td>2.0</td>\n",
       "      <td>2.0</td>\n",
       "      <td>3.0</td>\n",
       "      <td>1.0</td>\n",
       "      <td>0</td>\n",
       "      <td>2</td>\n",
       "      <td>0</td>\n",
       "      <td>29729.729730</td>\n",
       "      <td>12</td>\n",
       "    </tr>\n",
       "    <tr>\n",
       "      <th>4</th>\n",
       "      <td>13500000.0</td>\n",
       "      <td>1090.0</td>\n",
       "      <td>2.0</td>\n",
       "      <td>2.0</td>\n",
       "      <td>1.0</td>\n",
       "      <td>2.0</td>\n",
       "      <td>1.0</td>\n",
       "      <td>0</td>\n",
       "      <td>2</td>\n",
       "      <td>0</td>\n",
       "      <td>12385.321101</td>\n",
       "      <td>22</td>\n",
       "    </tr>\n",
       "  </tbody>\n",
       "</table>\n",
       "</div>"
      ],
      "text/plain": [
       "        price    area  Bedrooms  Bathrooms  Balcony  Lift  parking  neworold  \\\n",
       "0  22400000.0   629.0       2.0        2.0      1.0   2.0      1.0         0   \n",
       "1  35000000.0   974.0       3.0        2.0      1.0   2.0      1.0         0   \n",
       "2  31700000.0   968.0       3.0        3.0      1.0   2.0      1.0         0   \n",
       "3  18700000.0   629.0       2.0        2.0      2.0   3.0      1.0         0   \n",
       "4  13500000.0  1090.0       2.0        2.0      1.0   2.0      1.0         0   \n",
       "\n",
       "   Furnished_status  type_of_building    Price_sqft  City_area  \n",
       "0                 2                 0  35612.082671          7  \n",
       "1                 2                 0  35934.291581          7  \n",
       "2                 2                 0  32747.933884         11  \n",
       "3                 2                 0  29729.729730         12  \n",
       "4                 2                 0  12385.321101         22  "
      ]
     },
     "execution_count": 2686,
     "metadata": {},
     "output_type": "execute_result"
    }
   ],
   "source": [
    "df.head()"
   ]
  },
  {
   "cell_type": "code",
   "execution_count": null,
   "id": "f386dd70",
   "metadata": {},
   "outputs": [],
   "source": []
  },
  {
   "cell_type": "code",
   "execution_count": 2852,
   "id": "022853ac",
   "metadata": {},
   "outputs": [
    {
     "data": {
      "text/plain": [
       "['Ambernath',\n",
       " 'Andheri',\n",
       " 'Bandra',\n",
       " 'Bhandup',\n",
       " 'Bhayandar',\n",
       " 'Borivali',\n",
       " 'Byculla',\n",
       " 'Chembur',\n",
       " 'Chinchpokli',\n",
       " 'Dadar',\n",
       " 'Dahisar',\n",
       " 'Ghatkopar',\n",
       " 'Goregaon',\n",
       " 'Govandi',\n",
       " 'Jogeshwari',\n",
       " 'Kalyan',\n",
       " 'Kandivali',\n",
       " 'Kanjurmarg',\n",
       " 'Khar',\n",
       " 'Kurla',\n",
       " 'Lower Parel',\n",
       " 'Mahim',\n",
       " 'Malad',\n",
       " 'Matunga',\n",
       " 'Mazgaon',\n",
       " 'Mira Road',\n",
       " 'Mulund',\n",
       " 'Mumbai Central',\n",
       " 'Nahur',\n",
       " 'Naigaon',\n",
       " 'Nalasopara',\n",
       " 'Navi Mumbai',\n",
       " 'Parel',\n",
       " 'Powai',\n",
       " 'Santacruz',\n",
       " 'Sewri',\n",
       " 'Sion',\n",
       " 'Thane',\n",
       " 'Tilak Nagar - Harbour Line',\n",
       " 'Ulhasnagar',\n",
       " 'Vasai',\n",
       " 'Vikhroli',\n",
       " 'Vile Parle',\n",
       " 'Virar']"
      ]
     },
     "execution_count": 2852,
     "metadata": {},
     "output_type": "execute_result"
    }
   ],
   "source": [
    "sorted(df['City_area'].unique())"
   ]
  },
  {
   "cell_type": "code",
   "execution_count": null,
   "id": "0064b3e2",
   "metadata": {},
   "outputs": [],
   "source": []
  }
 ],
 "metadata": {
  "kernelspec": {
   "display_name": "Python 3 (ipykernel)",
   "language": "python",
   "name": "python3"
  },
  "language_info": {
   "codemirror_mode": {
    "name": "ipython",
    "version": 3
   },
   "file_extension": ".py",
   "mimetype": "text/x-python",
   "name": "python",
   "nbconvert_exporter": "python",
   "pygments_lexer": "ipython3",
   "version": "3.8.3"
  }
 },
 "nbformat": 4,
 "nbformat_minor": 5
}
